{
 "cells": [
  {
   "cell_type": "markdown",
   "id": "35018c0e-e8a7-449b-b878-19a91ee298e7",
   "metadata": {},
   "source": [
    "# Finetuning Nepali BERT model - Example"
   ]
  },
  {
   "cell_type": "code",
   "execution_count": 1,
   "id": "15fa246f-ce77-4360-90bd-28c8ae7b5260",
   "metadata": {},
   "outputs": [
    {
     "name": "stdout",
     "output_type": "stream",
     "text": [
      "Sat Nov  5 12:21:14 2022       \n",
      "+-----------------------------------------------------------------------------+\n",
      "| NVIDIA-SMI 515.76       Driver Version: 515.76       CUDA Version: 11.7     |\n",
      "|-------------------------------+----------------------+----------------------+\n",
      "| GPU  Name        Persistence-M| Bus-Id        Disp.A | Volatile Uncorr. ECC |\n",
      "| Fan  Temp  Perf  Pwr:Usage/Cap|         Memory-Usage | GPU-Util  Compute M. |\n",
      "|                               |                      |               MIG M. |\n",
      "|===============================+======================+======================|\n",
      "|   0  NVIDIA GeForce ...  Off  | 00000000:01:00.0 Off |                  N/A |\n",
      "| 29%   33C    P8     9W / 270W |    181MiB / 11264MiB |      0%      Default |\n",
      "|                               |                      |                  N/A |\n",
      "+-------------------------------+----------------------+----------------------+\n",
      "|   1  NVIDIA RTX A6000    Off  | 00000000:04:00.0 Off |                  Off |\n",
      "| 37%   69C    P2   237W / 300W |  28537MiB / 49140MiB |     67%      Default |\n",
      "|                               |                      |                  N/A |\n",
      "+-------------------------------+----------------------+----------------------+\n",
      "                                                                               \n",
      "+-----------------------------------------------------------------------------+\n",
      "| Processes:                                                                  |\n",
      "|  GPU   GI   CI        PID   Type   Process name                  GPU Memory |\n",
      "|        ID   ID                                                   Usage      |\n",
      "|=============================================================================|\n",
      "+-----------------------------------------------------------------------------+\n"
     ]
    }
   ],
   "source": [
    "!nvidia-smi"
   ]
  },
  {
   "cell_type": "code",
   "execution_count": 2,
   "id": "a934c37a-b375-41b8-87ed-97dbc729694b",
   "metadata": {},
   "outputs": [],
   "source": [
    "import os\n",
    "os.environ['http_proxy'] = 'http://192.41.170.23:3128'\n",
    "os.environ['https_proxy'] = 'http://192.41.170.23:3128'\n",
    "os.environ['CUDA_VISIBLE_DEVICES'] = '0'\n",
    "os.environ['WANDB_MODE'] = 'disabled'"
   ]
  },
  {
   "cell_type": "markdown",
   "id": "df555025-355f-4356-961c-1a64703c85d7",
   "metadata": {
    "tags": []
   },
   "source": [
    "## Process the Dataset"
   ]
  },
  {
   "cell_type": "markdown",
   "id": "493ec69f-b3e2-4832-afbb-971634f3aea7",
   "metadata": {
    "tags": []
   },
   "source": [
    "### Locate and load different splits of our dataset with `datasets` module"
   ]
  },
  {
   "cell_type": "code",
   "execution_count": 3,
   "id": "40c4488f-de2a-4b4a-a7e4-636ebda0b942",
   "metadata": {},
   "outputs": [
    {
     "name": "stderr",
     "output_type": "stream",
     "text": [
      "/home/suyogyat/research/.RNN/lib/python3.8/site-packages/tqdm/auto.py:22: TqdmWarning: IProgress not found. Please update jupyter and ipywidgets. See https://ipywidgets.readthedocs.io/en/stable/user_install.html\n",
      "  from .autonotebook import tqdm as notebook_tqdm\n"
     ]
    }
   ],
   "source": [
    "from datasets import load_dataset"
   ]
  },
  {
   "cell_type": "code",
   "execution_count": 4,
   "id": "ec3b18a9-d15a-466f-8d1d-afd0219b8a37",
   "metadata": {},
   "outputs": [
    {
     "name": "stderr",
     "output_type": "stream",
     "text": [
      "Using custom data configuration dataset-1674e7a5a203da5c\n",
      "Found cached dataset csv (/home/suyogyat/.cache/huggingface/datasets/csv/dataset-1674e7a5a203da5c/0.0.0/6b34fb8fcf56f7c8ba51dc895bfa2bfbe43546f190a60fcf74bb5e8afdcc2317)\n",
      "100%|██████████| 3/3 [00:00<00:00, 954.62it/s]"
     ]
    },
    {
     "name": "stdout",
     "output_type": "stream",
     "text": [
      "Dataset:  DatasetDict({\n",
      "    valid: Dataset({\n",
      "        features: ['source', 'category', 'heading', 'content', 'content_word_count', 'labels'],\n",
      "        num_rows: 3000\n",
      "    })\n",
      "    test: Dataset({\n",
      "        features: ['source', 'category', 'heading', 'content', 'content_word_count', 'labels'],\n",
      "        num_rows: 3000\n",
      "    })\n",
      "    train: Dataset({\n",
      "        features: ['source', 'category', 'heading', 'content', 'content_word_count', 'labels'],\n",
      "        num_rows: 24000\n",
      "    })\n",
      "})\n"
     ]
    },
    {
     "name": "stderr",
     "output_type": "stream",
     "text": [
      "\n"
     ]
    }
   ],
   "source": [
    "# Defining some constant values for our dataset\n",
    "SIZE = '30K'\n",
    "DATASET_ID = 'np20ng'\n",
    "\n",
    "DATASET_PATH = '/home/suyogyat/research/dataset'\n",
    "TRAIN_PATH = os.path.join(DATASET_PATH, SIZE, f'{DATASET_ID}_{SIZE}_train.csv')\n",
    "VALID_PATH = os.path.join(DATASET_PATH, SIZE, f'{DATASET_ID}_{SIZE}_valid.csv')\n",
    "TEST_PATH = os.path.join(DATASET_PATH, SIZE, f'{DATASET_ID}_{SIZE}_test.csv') \n",
    "\n",
    "# Required to load dataset splits\n",
    "data_files = {'train': TRAIN_PATH, 'valid': VALID_PATH, 'test': TEST_PATH}\n",
    "\n",
    "dataset = load_dataset(path=DATASET_PATH, data_files=data_files)\n",
    "print('Dataset: ', dataset)"
   ]
  },
  {
   "cell_type": "markdown",
   "id": "5c8ddd0e-6dba-4cb5-be37-c3df611c59e4",
   "metadata": {
    "tags": []
   },
   "source": [
    "### Remove unwanted columns and label encode using `ClassLabel`"
   ]
  },
  {
   "cell_type": "code",
   "execution_count": 5,
   "id": "a00a7a1c-12e0-4d82-a5db-4c416109c8da",
   "metadata": {},
   "outputs": [
    {
     "name": "stderr",
     "output_type": "stream",
     "text": [
      "Loading cached processed dataset at /home/suyogyat/.cache/huggingface/datasets/csv/dataset-1674e7a5a203da5c/0.0.0/6b34fb8fcf56f7c8ba51dc895bfa2bfbe43546f190a60fcf74bb5e8afdcc2317/cache-db9b23c90b8ba4f5.arrow\n",
      "Loading cached processed dataset at /home/suyogyat/.cache/huggingface/datasets/csv/dataset-1674e7a5a203da5c/0.0.0/6b34fb8fcf56f7c8ba51dc895bfa2bfbe43546f190a60fcf74bb5e8afdcc2317/cache-a34977ab62ff9ed1.arrow\n",
      "Loading cached processed dataset at /home/suyogyat/.cache/huggingface/datasets/csv/dataset-1674e7a5a203da5c/0.0.0/6b34fb8fcf56f7c8ba51dc895bfa2bfbe43546f190a60fcf74bb5e8afdcc2317/cache-f5694c1a1c94621e.arrow\n",
      "Loading cached processed dataset at /home/suyogyat/.cache/huggingface/datasets/csv/dataset-1674e7a5a203da5c/0.0.0/6b34fb8fcf56f7c8ba51dc895bfa2bfbe43546f190a60fcf74bb5e8afdcc2317/cache-979a6173066b6e4e.arrow\n",
      "Loading cached processed dataset at /home/suyogyat/.cache/huggingface/datasets/csv/dataset-1674e7a5a203da5c/0.0.0/6b34fb8fcf56f7c8ba51dc895bfa2bfbe43546f190a60fcf74bb5e8afdcc2317/cache-10c0e47e06b926f5.arrow\n",
      "Loading cached processed dataset at /home/suyogyat/.cache/huggingface/datasets/csv/dataset-1674e7a5a203da5c/0.0.0/6b34fb8fcf56f7c8ba51dc895bfa2bfbe43546f190a60fcf74bb5e8afdcc2317/cache-95f3fae6e8f64f86.arrow\n"
     ]
    },
    {
     "name": "stdout",
     "output_type": "stream",
     "text": [
      "Dataset:  DatasetDict({\n",
      "    valid: Dataset({\n",
      "        features: ['labels', 'text'],\n",
      "        num_rows: 3000\n",
      "    })\n",
      "    test: Dataset({\n",
      "        features: ['labels', 'text'],\n",
      "        num_rows: 3000\n",
      "    })\n",
      "    train: Dataset({\n",
      "        features: ['labels', 'text'],\n",
      "        num_rows: 24000\n",
      "    })\n",
      "})\n"
     ]
    }
   ],
   "source": [
    "# Remove columns\n",
    "dataset = dataset.remove_columns(['source', 'heading', 'content_word_count', 'labels'])\n",
    "\n",
    "# Rename columns\n",
    "dataset = dataset.rename_columns({'content': 'text', 'category': 'labels'})\n",
    "\n",
    "# Label encode categorical column\n",
    "dataset = dataset.class_encode_column('labels')\n",
    "\n",
    "print('Dataset: ', dataset)"
   ]
  },
  {
   "cell_type": "code",
   "execution_count": 6,
   "id": "20990c6c-e460-4d10-a5e7-60e1a454aa32",
   "metadata": {},
   "outputs": [
    {
     "data": {
      "text/plain": [
       "{'labels': ClassLabel(names=['Arts', 'Automobile', 'Bank', 'Business', 'Crime', 'Economy', 'Education', 'Employment', 'Entertainment', 'Health', 'Lifestyle', 'Literature', 'Market', 'Opinion', 'Politics', 'Society', 'Sports', 'Technology', 'Tourism', 'World'], id=None),\n",
       " 'text': Value(dtype='string', id=None)}"
      ]
     },
     "execution_count": 6,
     "metadata": {},
     "output_type": "execute_result"
    }
   ],
   "source": [
    "dataset['train'].features"
   ]
  },
  {
   "cell_type": "code",
   "execution_count": 7,
   "id": "5399d1ad-8343-4355-b029-df9d9cce22d8",
   "metadata": {},
   "outputs": [],
   "source": [
    "def get_label2id_and_id2label():\n",
    "    category_names = dataset['train'].features['labels'].names\n",
    "    id2label = label2id = {}\n",
    "\n",
    "    for i in range(0, len(category_names)):\n",
    "        label2id[category_names[i]] = i\n",
    "\n",
    "    id2label = {str(value):key for key, value in label2id.items()}\n",
    "\n",
    "    return label2id, id2label"
   ]
  },
  {
   "cell_type": "code",
   "execution_count": 8,
   "id": "aaa5d609-fba5-47ad-a221-526509265edc",
   "metadata": {},
   "outputs": [],
   "source": [
    "def get_num_labels():\n",
    "    return dataset['train'].features['labels'].num_classes"
   ]
  },
  {
   "cell_type": "markdown",
   "id": "94801bbd-1dbb-4ba4-8fcd-ac3674cbca46",
   "metadata": {
    "tags": []
   },
   "source": [
    "## Load Model and Tokenizer\n",
    "\n",
    "We will use Nepali BERT model **(Huggingface id: Rajan/NepaliBERT)** model and its respective tokenizer to tokenize our dataset."
   ]
  },
  {
   "cell_type": "code",
   "execution_count": 9,
   "id": "6028ec38-d69a-4544-92fe-0196390dc93f",
   "metadata": {},
   "outputs": [],
   "source": [
    "# Some constants\n",
    "MODEL_NAME = 'BERT'\n",
    "MODEL_ID = 'Rajan/NepaliBERT'\n",
    "TOKENIZER_ID = MODEL_ID\n",
    "MAX_SEQ_LEN = 512"
   ]
  },
  {
   "cell_type": "code",
   "execution_count": 10,
   "id": "e06b5bc5-b8c5-4048-b523-482b593973d1",
   "metadata": {},
   "outputs": [],
   "source": [
    "from transformers import AutoModelForSequenceClassification, AutoTokenizer, DataCollatorWithPadding"
   ]
  },
  {
   "cell_type": "markdown",
   "id": "f90eb046-6ed9-469f-b9d7-7355347e2397",
   "metadata": {
    "tags": []
   },
   "source": [
    "### Load the pretrained model using `MODEL_ID`"
   ]
  },
  {
   "cell_type": "code",
   "execution_count": 11,
   "id": "35cf8d3a-2190-4ee3-a7c4-c1c00b70c7c8",
   "metadata": {},
   "outputs": [
    {
     "name": "stdout",
     "output_type": "stream",
     "text": [
      "Loading BERT model: Rajan/NepaliBERT...\n"
     ]
    },
    {
     "name": "stderr",
     "output_type": "stream",
     "text": [
      "Some weights of the model checkpoint at Rajan/NepaliBERT were not used when initializing BertForSequenceClassification: ['cls.predictions.bias', 'cls.predictions.transform.dense.bias', 'cls.predictions.decoder.bias', 'cls.predictions.transform.LayerNorm.weight', 'cls.predictions.transform.dense.weight', 'cls.predictions.decoder.weight', 'cls.predictions.transform.LayerNorm.bias']\n",
      "- This IS expected if you are initializing BertForSequenceClassification from the checkpoint of a model trained on another task or with another architecture (e.g. initializing a BertForSequenceClassification model from a BertForPreTraining model).\n",
      "- This IS NOT expected if you are initializing BertForSequenceClassification from the checkpoint of a model that you expect to be exactly identical (initializing a BertForSequenceClassification model from a BertForSequenceClassification model).\n",
      "Some weights of BertForSequenceClassification were not initialized from the model checkpoint at Rajan/NepaliBERT and are newly initialized: ['classifier.weight', 'classifier.bias', 'bert.pooler.dense.bias', 'bert.pooler.dense.weight']\n",
      "You should probably TRAIN this model on a down-stream task to be able to use it for predictions and inference.\n"
     ]
    },
    {
     "name": "stdout",
     "output_type": "stream",
     "text": [
      "Model loaded !\n"
     ]
    }
   ],
   "source": [
    "print(f'Loading {MODEL_NAME} model: {MODEL_ID}...')\n",
    "label2id, id2label = get_label2id_and_id2label()\n",
    "model = AutoModelForSequenceClassification.from_pretrained(MODEL_ID, \n",
    "                                                            num_labels=get_num_labels(), \n",
    "                                                            label2id=label2id, \n",
    "                                                            id2label=id2label\n",
    "                                                          )\n",
    "print('Model loaded !')"
   ]
  },
  {
   "cell_type": "markdown",
   "id": "86c069b7-e737-4ae1-a537-7d3d783752c3",
   "metadata": {
    "tags": []
   },
   "source": [
    "### Load the pretrained tokenizer using `MODEL_ID`\n",
    "\n",
    "The tokenizer ID is mostly same with the model ID."
   ]
  },
  {
   "cell_type": "code",
   "execution_count": 12,
   "id": "a9e039ed-652f-45d1-b06b-450e55ee9aea",
   "metadata": {},
   "outputs": [
    {
     "name": "stdout",
     "output_type": "stream",
     "text": [
      "Loading pretrained tokenizer: Rajan/NepaliBERT...\n",
      "Tokenizer loaded !\n"
     ]
    }
   ],
   "source": [
    "print(f'Loading pretrained tokenizer: {MODEL_ID}...') \n",
    "tokenizer = AutoTokenizer.from_pretrained(MODEL_ID, \n",
    "                                            strip_accents=False, \n",
    "                                            clean_text=False\n",
    "                                         )\n",
    "print('Tokenizer loaded !')"
   ]
  },
  {
   "cell_type": "markdown",
   "id": "ee3b1465-4a8e-4e92-ae8a-64bb2b4f9aa3",
   "metadata": {},
   "source": [
    "Now, we tokenize our text data using the loaded tokenizer. We define a tokenization function, and this function will be mapped to all the text in our dataset. Additionally, after tokenizing, we will get **attention masks, token type ids** and **input ids** as additional columns which will be required to fine-tune the model. \n",
    "\n",
    "_**Note:** Only the Pytorch version of model is available at the Huggingface. So, we just have to add our tokenized dataset in the `torch` format._"
   ]
  },
  {
   "cell_type": "code",
   "execution_count": 13,
   "id": "0194f02c-827a-4337-b682-bb0b0c66b768",
   "metadata": {},
   "outputs": [
    {
     "name": "stderr",
     "output_type": "stream",
     "text": [
      "Loading cached processed dataset at /home/suyogyat/.cache/huggingface/datasets/csv/dataset-1674e7a5a203da5c/0.0.0/6b34fb8fcf56f7c8ba51dc895bfa2bfbe43546f190a60fcf74bb5e8afdcc2317/cache-08ce285ae9376b04.arrow\n",
      "Loading cached processed dataset at /home/suyogyat/.cache/huggingface/datasets/csv/dataset-1674e7a5a203da5c/0.0.0/6b34fb8fcf56f7c8ba51dc895bfa2bfbe43546f190a60fcf74bb5e8afdcc2317/cache-3cb2bce08abead56.arrow\n",
      "Loading cached processed dataset at /home/suyogyat/.cache/huggingface/datasets/csv/dataset-1674e7a5a203da5c/0.0.0/6b34fb8fcf56f7c8ba51dc895bfa2bfbe43546f190a60fcf74bb5e8afdcc2317/cache-edb2a90284f7e7e8.arrow\n",
      "Loading cached processed dataset at /home/suyogyat/.cache/huggingface/datasets/csv/dataset-1674e7a5a203da5c/0.0.0/6b34fb8fcf56f7c8ba51dc895bfa2bfbe43546f190a60fcf74bb5e8afdcc2317/cache-1447a37b89670bf5.arrow\n",
      "Loading cached processed dataset at /home/suyogyat/.cache/huggingface/datasets/csv/dataset-1674e7a5a203da5c/0.0.0/6b34fb8fcf56f7c8ba51dc895bfa2bfbe43546f190a60fcf74bb5e8afdcc2317/cache-22ff00cafcf58d27.arrow\n",
      "Loading cached processed dataset at /home/suyogyat/.cache/huggingface/datasets/csv/dataset-1674e7a5a203da5c/0.0.0/6b34fb8fcf56f7c8ba51dc895bfa2bfbe43546f190a60fcf74bb5e8afdcc2317/cache-f6725f7165462d0c.arrow\n",
      "Loading cached processed dataset at /home/suyogyat/.cache/huggingface/datasets/csv/dataset-1674e7a5a203da5c/0.0.0/6b34fb8fcf56f7c8ba51dc895bfa2bfbe43546f190a60fcf74bb5e8afdcc2317/cache-045784d0e369963c.arrow\n",
      "Loading cached processed dataset at /home/suyogyat/.cache/huggingface/datasets/csv/dataset-1674e7a5a203da5c/0.0.0/6b34fb8fcf56f7c8ba51dc895bfa2bfbe43546f190a60fcf74bb5e8afdcc2317/cache-4fd08a385bef4d06.arrow\n",
      "Loading cached processed dataset at /home/suyogyat/.cache/huggingface/datasets/csv/dataset-1674e7a5a203da5c/0.0.0/6b34fb8fcf56f7c8ba51dc895bfa2bfbe43546f190a60fcf74bb5e8afdcc2317/cache-e35bf1fe33dda99b.arrow\n",
      "Loading cached processed dataset at /home/suyogyat/.cache/huggingface/datasets/csv/dataset-1674e7a5a203da5c/0.0.0/6b34fb8fcf56f7c8ba51dc895bfa2bfbe43546f190a60fcf74bb5e8afdcc2317/cache-47d3c0500608bb76.arrow\n",
      "Loading cached processed dataset at /home/suyogyat/.cache/huggingface/datasets/csv/dataset-1674e7a5a203da5c/0.0.0/6b34fb8fcf56f7c8ba51dc895bfa2bfbe43546f190a60fcf74bb5e8afdcc2317/cache-84ea3383383d9fac.arrow\n",
      "Loading cached processed dataset at /home/suyogyat/.cache/huggingface/datasets/csv/dataset-1674e7a5a203da5c/0.0.0/6b34fb8fcf56f7c8ba51dc895bfa2bfbe43546f190a60fcf74bb5e8afdcc2317/cache-06b59a69549490ee.arrow\n"
     ]
    },
    {
     "name": "stdout",
     "output_type": "stream",
     "text": [
      "Tokenized dataset:  DatasetDict({\n",
      "    valid: Dataset({\n",
      "        features: ['labels', 'input_ids', 'token_type_ids', 'attention_mask'],\n",
      "        num_rows: 3000\n",
      "    })\n",
      "    test: Dataset({\n",
      "        features: ['labels', 'input_ids', 'token_type_ids', 'attention_mask'],\n",
      "        num_rows: 3000\n",
      "    })\n",
      "    train: Dataset({\n",
      "        features: ['labels', 'input_ids', 'token_type_ids', 'attention_mask'],\n",
      "        num_rows: 24000\n",
      "    })\n",
      "})\n"
     ]
    }
   ],
   "source": [
    "# Function to apply on all the text data\n",
    "def tokenize_function(data):\n",
    "    \"\"\"Tokenization method to apply collectively to all the samples.\n",
    "\n",
    "    Parameters\n",
    "    ----------\n",
    "    data : DatasetDict\n",
    "        Series of Text values.\n",
    "\n",
    "    Returns\n",
    "    -------\n",
    "    tokenizer\n",
    "        Tokenizer object with input ids, attention masks and token type ids.\n",
    "    \"\"\"\n",
    "    return tokenizer(text=data['text'], \n",
    "                     truncation=True, \n",
    "                     padding=True, \n",
    "                     max_length=MAX_SEQ_LEN)\n",
    "\n",
    "# Map our dataset using the defined tokeniz_function\n",
    "tokenized_dataset = dataset.map(tokenize_function, batched=True, num_proc=4)\n",
    "\n",
    "# Remove text column, as it is no longer required\n",
    "tokenized_dataset = tokenized_dataset.remove_columns('text')\n",
    "\n",
    "# Only torch format model is available\n",
    "tokenized_dataset = tokenized_dataset.with_format('torch')\n",
    "\n",
    "print('Tokenized dataset: ', tokenized_dataset)"
   ]
  },
  {
   "cell_type": "markdown",
   "id": "c0b7b31b-f095-4ca9-8bb0-c5ebc90e6b78",
   "metadata": {
    "tags": []
   },
   "source": [
    "## Training Phase"
   ]
  },
  {
   "cell_type": "code",
   "execution_count": 14,
   "id": "1ad09f64-6ef4-4296-b0e8-32e4c1989f5a",
   "metadata": {},
   "outputs": [],
   "source": [
    "import pandas as pd\n",
    "import numpy as np\n",
    "import seaborn as sns\n",
    "from sklearn.metrics import accuracy_score, recall_score, precision_score, f1_score, balanced_accuracy_score, classification_report\n",
    "import matplotlib.pyplot as plt\n",
    "import scikitplot as skplt"
   ]
  },
  {
   "cell_type": "markdown",
   "id": "e49dacc1-a88c-4bdb-99ac-54b4edb8dc59",
   "metadata": {
    "tags": []
   },
   "source": [
    "### Define Hyperparameters"
   ]
  },
  {
   "cell_type": "code",
   "execution_count": 15,
   "id": "8e31d8fa-bb64-47a4-a99e-3c10def14a33",
   "metadata": {},
   "outputs": [],
   "source": [
    "LEARNING_RATE = 3e-05\n",
    "EPOCHS = 10\n",
    "TRAIN_BATCH_SIZE = 32\n",
    "EVAL_BATCH_SIZE = 32\n",
    "WEIGHT_DECAY = 0.0\n",
    "\n",
    "STEPS = 500    # Evaluation Steps, Logging Steps\n",
    "EARLY_STOPPING_PATIENCE = 5    # Based on minimum validation loss\n",
    "SAVE_TOTAL_LIMIT = 1    # Number of best model checkpoints to save"
   ]
  },
  {
   "cell_type": "markdown",
   "id": "4feff31d-f31c-4fa9-913b-948aa693e83f",
   "metadata": {
    "tags": []
   },
   "source": [
    "### Setup Training Arguments"
   ]
  },
  {
   "cell_type": "code",
   "execution_count": 16,
   "id": "a2bc43e3-1620-4488-a4f3-a50ae2ea1176",
   "metadata": {},
   "outputs": [],
   "source": [
    "from transformers import TrainingArguments, Trainer, EarlyStoppingCallback"
   ]
  },
  {
   "cell_type": "code",
   "execution_count": 17,
   "id": "c2a4e75a-f26b-402a-96a0-00a37a28207c",
   "metadata": {},
   "outputs": [
    {
     "name": "stdout",
     "output_type": "stream",
     "text": [
      "Training arguments loaded !\n"
     ]
    }
   ],
   "source": [
    "training_args = TrainingArguments(output_dir='/home/suyogyat/research/models/',\n",
    "                                  logging_dir='/home/suyogyat/research/models/',\n",
    "                                  save_strategy='steps',\n",
    "                                  evaluation_strategy='steps',\n",
    "                                  num_train_epochs=EPOCHS,\n",
    "                                  per_device_train_batch_size=TRAIN_BATCH_SIZE,\n",
    "                                  per_device_eval_batch_size=EVAL_BATCH_SIZE, \n",
    "                                  learning_rate=LEARNING_RATE, \n",
    "                                  weight_decay=WEIGHT_DECAY,\n",
    "                                  save_total_limit=SAVE_TOTAL_LIMIT,\n",
    "                                  save_steps=STEPS,\n",
    "                                  eval_steps=STEPS,\n",
    "                                  logging_steps=STEPS,\n",
    "                                  load_best_model_at_end=True,\n",
    "                                  do_eval=True)\n",
    "print('Training arguments loaded !')"
   ]
  },
  {
   "cell_type": "markdown",
   "id": "f4dcdd14-bb76-4146-bc19-a2ca29d32cd2",
   "metadata": {},
   "source": [
    "### Setup Trainer\n",
    "\n",
    "Here, we first define a function which will aid us to report classification metrics through our trainer.\n",
    "\n",
    "Then, the trainer is setup using appropriate callbacks."
   ]
  },
  {
   "cell_type": "code",
   "execution_count": 18,
   "id": "8b6415e2-66cf-4012-8701-30f9dca9012a",
   "metadata": {},
   "outputs": [],
   "source": [
    "def compute_metrics(p):\n",
    "    pred, labels = p\n",
    "    pred = np.argmax(pred, axis=1)\n",
    "\n",
    "    accuracy = accuracy_score(y_true=labels, y_pred=pred)\n",
    "    balanced_accuracy = balanced_accuracy_score(y_true=labels, y_pred=pred) \n",
    "\n",
    "    recall_weighted = recall_score(y_true=labels, y_pred=pred, average='weighted')    \n",
    "    precision_weighted = precision_score(y_true=labels, y_pred=pred, average='weighted')    \n",
    "    f1_weighted = f1_score(y_true=labels, y_pred=pred, average='weighted')\n",
    "\n",
    "    recall_macro = recall_score(y_true=labels, y_pred=pred, average='macro')    \n",
    "    precision_macro = precision_score(y_true=labels, y_pred=pred, average='macro')    \n",
    "    f1_macro = f1_score(y_true=labels, y_pred=pred, average='macro')\n",
    "\n",
    "    return {\n",
    "        'accuracy': accuracy, \n",
    "        'balanced_accuracy': balanced_accuracy, \n",
    "        'precision_weighted': precision_weighted, \n",
    "        'recall_weighted': recall_weighted, \n",
    "        'f1_weighted':f1_weighted,\n",
    "        'precision_macro': precision_macro, \n",
    "        'recall_macro': recall_macro, \n",
    "        'f1_macro': f1_macro\n",
    "        }\n",
    "\n",
    "# Define trainer\n",
    "trainer = Trainer(\n",
    "    model,\n",
    "    training_args,\n",
    "    train_dataset=tokenized_dataset['train'],\n",
    "    eval_dataset=tokenized_dataset['valid'],\n",
    "    data_collator=DataCollatorWithPadding(tokenizer),\n",
    "    tokenizer=tokenizer,\n",
    "    compute_metrics=compute_metrics,\n",
    "    callbacks=[EarlyStoppingCallback(early_stopping_patience=EARLY_STOPPING_PATIENCE)]\n",
    ")"
   ]
  },
  {
   "cell_type": "markdown",
   "id": "8461226a-1f67-4a07-bbc4-973d874e4890",
   "metadata": {},
   "source": [
    "### Begin Training"
   ]
  },
  {
   "cell_type": "code",
   "execution_count": 19,
   "id": "5806e1e6-f039-4fd0-ba5a-abea8a093adf",
   "metadata": {},
   "outputs": [
    {
     "name": "stderr",
     "output_type": "stream",
     "text": [
      "/home/suyogyat/research/.RNN/lib/python3.8/site-packages/transformers/optimization.py:306: FutureWarning: This implementation of AdamW is deprecated and will be removed in a future version. Use the PyTorch implementation torch.optim.AdamW instead, or set `no_deprecation_warning=True` to disable this warning\n",
      "  warnings.warn(\n",
      "***** Running training *****\n",
      "  Num examples = 24000\n",
      "  Num Epochs = 10\n",
      "  Instantaneous batch size per device = 32\n",
      "  Total train batch size (w. parallel, distributed & accumulation) = 32\n",
      "  Gradient Accumulation steps = 1\n",
      "  Total optimization steps = 7500\n",
      "Automatic Weights & Biases logging enabled, to disable set os.environ[\"WANDB_DISABLED\"] = \"true\"\n",
      "Failed to detect the name of this notebook, you can set it manually with the WANDB_NOTEBOOK_NAME environment variable to enable code saving.\n",
      "You're using a BertTokenizerFast tokenizer. Please note that with a fast tokenizer, using the `__call__` method is faster than using a method to encode the text followed by a call to the `pad` method to get a padded encoding.\n"
     ]
    },
    {
     "data": {
      "text/html": [
       "\n",
       "    <div>\n",
       "      \n",
       "      <progress value='4000' max='7500' style='width:300px; height:20px; vertical-align: middle;'></progress>\n",
       "      [4000/7500 33:07 < 28:59, 2.01 it/s, Epoch 5/10]\n",
       "    </div>\n",
       "    <table border=\"1\" class=\"dataframe\">\n",
       "  <thead>\n",
       " <tr style=\"text-align: left;\">\n",
       "      <th>Step</th>\n",
       "      <th>Training Loss</th>\n",
       "      <th>Validation Loss</th>\n",
       "      <th>Accuracy</th>\n",
       "      <th>Balanced Accuracy</th>\n",
       "      <th>Precision Weighted</th>\n",
       "      <th>Recall Weighted</th>\n",
       "      <th>F1 Weighted</th>\n",
       "      <th>Precision Macro</th>\n",
       "      <th>Recall Macro</th>\n",
       "      <th>F1 Macro</th>\n",
       "    </tr>\n",
       "  </thead>\n",
       "  <tbody>\n",
       "    <tr>\n",
       "      <td>500</td>\n",
       "      <td>1.168700</td>\n",
       "      <td>0.925291</td>\n",
       "      <td>0.708333</td>\n",
       "      <td>0.708333</td>\n",
       "      <td>0.702354</td>\n",
       "      <td>0.708333</td>\n",
       "      <td>0.694768</td>\n",
       "      <td>0.702354</td>\n",
       "      <td>0.708333</td>\n",
       "      <td>0.694768</td>\n",
       "    </tr>\n",
       "    <tr>\n",
       "      <td>1000</td>\n",
       "      <td>0.786200</td>\n",
       "      <td>0.835831</td>\n",
       "      <td>0.733000</td>\n",
       "      <td>0.733000</td>\n",
       "      <td>0.721983</td>\n",
       "      <td>0.733000</td>\n",
       "      <td>0.717994</td>\n",
       "      <td>0.721983</td>\n",
       "      <td>0.733000</td>\n",
       "      <td>0.717994</td>\n",
       "    </tr>\n",
       "    <tr>\n",
       "      <td>1500</td>\n",
       "      <td>0.670200</td>\n",
       "      <td>0.821841</td>\n",
       "      <td>0.741000</td>\n",
       "      <td>0.741000</td>\n",
       "      <td>0.734474</td>\n",
       "      <td>0.741000</td>\n",
       "      <td>0.727668</td>\n",
       "      <td>0.734474</td>\n",
       "      <td>0.741000</td>\n",
       "      <td>0.727668</td>\n",
       "    </tr>\n",
       "    <tr>\n",
       "      <td>2000</td>\n",
       "      <td>0.450500</td>\n",
       "      <td>0.870250</td>\n",
       "      <td>0.735333</td>\n",
       "      <td>0.735333</td>\n",
       "      <td>0.729797</td>\n",
       "      <td>0.735333</td>\n",
       "      <td>0.727057</td>\n",
       "      <td>0.729797</td>\n",
       "      <td>0.735333</td>\n",
       "      <td>0.727057</td>\n",
       "    </tr>\n",
       "    <tr>\n",
       "      <td>2500</td>\n",
       "      <td>0.355600</td>\n",
       "      <td>0.962296</td>\n",
       "      <td>0.736000</td>\n",
       "      <td>0.736000</td>\n",
       "      <td>0.732360</td>\n",
       "      <td>0.736000</td>\n",
       "      <td>0.730237</td>\n",
       "      <td>0.732360</td>\n",
       "      <td>0.736000</td>\n",
       "      <td>0.730237</td>\n",
       "    </tr>\n",
       "    <tr>\n",
       "      <td>3000</td>\n",
       "      <td>0.244500</td>\n",
       "      <td>0.998688</td>\n",
       "      <td>0.732667</td>\n",
       "      <td>0.732667</td>\n",
       "      <td>0.733364</td>\n",
       "      <td>0.732667</td>\n",
       "      <td>0.730960</td>\n",
       "      <td>0.733364</td>\n",
       "      <td>0.732667</td>\n",
       "      <td>0.730960</td>\n",
       "    </tr>\n",
       "    <tr>\n",
       "      <td>3500</td>\n",
       "      <td>0.130800</td>\n",
       "      <td>1.136551</td>\n",
       "      <td>0.732333</td>\n",
       "      <td>0.732333</td>\n",
       "      <td>0.727736</td>\n",
       "      <td>0.732333</td>\n",
       "      <td>0.727020</td>\n",
       "      <td>0.727736</td>\n",
       "      <td>0.732333</td>\n",
       "      <td>0.727020</td>\n",
       "    </tr>\n",
       "    <tr>\n",
       "      <td>4000</td>\n",
       "      <td>0.086100</td>\n",
       "      <td>1.269449</td>\n",
       "      <td>0.728667</td>\n",
       "      <td>0.728667</td>\n",
       "      <td>0.723581</td>\n",
       "      <td>0.728667</td>\n",
       "      <td>0.722769</td>\n",
       "      <td>0.723581</td>\n",
       "      <td>0.728667</td>\n",
       "      <td>0.722769</td>\n",
       "    </tr>\n",
       "  </tbody>\n",
       "</table><p>"
      ],
      "text/plain": [
       "<IPython.core.display.HTML object>"
      ]
     },
     "metadata": {},
     "output_type": "display_data"
    },
    {
     "name": "stderr",
     "output_type": "stream",
     "text": [
      "***** Running Evaluation *****\n",
      "  Num examples = 3000\n",
      "  Batch size = 32\n",
      "Saving model checkpoint to /home/suyogyat/research/models/checkpoint-500\n",
      "Configuration saved in /home/suyogyat/research/models/checkpoint-500/config.json\n",
      "Model weights saved in /home/suyogyat/research/models/checkpoint-500/pytorch_model.bin\n",
      "tokenizer config file saved in /home/suyogyat/research/models/checkpoint-500/tokenizer_config.json\n",
      "Special tokens file saved in /home/suyogyat/research/models/checkpoint-500/special_tokens_map.json\n",
      "***** Running Evaluation *****\n",
      "  Num examples = 3000\n",
      "  Batch size = 32\n",
      "Saving model checkpoint to /home/suyogyat/research/models/checkpoint-1000\n",
      "Configuration saved in /home/suyogyat/research/models/checkpoint-1000/config.json\n",
      "Model weights saved in /home/suyogyat/research/models/checkpoint-1000/pytorch_model.bin\n",
      "tokenizer config file saved in /home/suyogyat/research/models/checkpoint-1000/tokenizer_config.json\n",
      "Special tokens file saved in /home/suyogyat/research/models/checkpoint-1000/special_tokens_map.json\n",
      "Deleting older checkpoint [/home/suyogyat/research/models/checkpoint-500] due to args.save_total_limit\n",
      "***** Running Evaluation *****\n",
      "  Num examples = 3000\n",
      "  Batch size = 32\n",
      "Saving model checkpoint to /home/suyogyat/research/models/checkpoint-1500\n",
      "Configuration saved in /home/suyogyat/research/models/checkpoint-1500/config.json\n",
      "Model weights saved in /home/suyogyat/research/models/checkpoint-1500/pytorch_model.bin\n",
      "tokenizer config file saved in /home/suyogyat/research/models/checkpoint-1500/tokenizer_config.json\n",
      "Special tokens file saved in /home/suyogyat/research/models/checkpoint-1500/special_tokens_map.json\n",
      "Deleting older checkpoint [/home/suyogyat/research/models/checkpoint-1000] due to args.save_total_limit\n",
      "***** Running Evaluation *****\n",
      "  Num examples = 3000\n",
      "  Batch size = 32\n",
      "Saving model checkpoint to /home/suyogyat/research/models/checkpoint-2000\n",
      "Configuration saved in /home/suyogyat/research/models/checkpoint-2000/config.json\n",
      "Model weights saved in /home/suyogyat/research/models/checkpoint-2000/pytorch_model.bin\n",
      "tokenizer config file saved in /home/suyogyat/research/models/checkpoint-2000/tokenizer_config.json\n",
      "Special tokens file saved in /home/suyogyat/research/models/checkpoint-2000/special_tokens_map.json\n",
      "***** Running Evaluation *****\n",
      "  Num examples = 3000\n",
      "  Batch size = 32\n",
      "Saving model checkpoint to /home/suyogyat/research/models/checkpoint-2500\n",
      "Configuration saved in /home/suyogyat/research/models/checkpoint-2500/config.json\n",
      "Model weights saved in /home/suyogyat/research/models/checkpoint-2500/pytorch_model.bin\n",
      "tokenizer config file saved in /home/suyogyat/research/models/checkpoint-2500/tokenizer_config.json\n",
      "Special tokens file saved in /home/suyogyat/research/models/checkpoint-2500/special_tokens_map.json\n",
      "Deleting older checkpoint [/home/suyogyat/research/models/checkpoint-2000] due to args.save_total_limit\n",
      "***** Running Evaluation *****\n",
      "  Num examples = 3000\n",
      "  Batch size = 32\n",
      "Saving model checkpoint to /home/suyogyat/research/models/checkpoint-3000\n",
      "Configuration saved in /home/suyogyat/research/models/checkpoint-3000/config.json\n",
      "Model weights saved in /home/suyogyat/research/models/checkpoint-3000/pytorch_model.bin\n",
      "tokenizer config file saved in /home/suyogyat/research/models/checkpoint-3000/tokenizer_config.json\n",
      "Special tokens file saved in /home/suyogyat/research/models/checkpoint-3000/special_tokens_map.json\n",
      "Deleting older checkpoint [/home/suyogyat/research/models/checkpoint-2500] due to args.save_total_limit\n",
      "***** Running Evaluation *****\n",
      "  Num examples = 3000\n",
      "  Batch size = 32\n",
      "Saving model checkpoint to /home/suyogyat/research/models/checkpoint-3500\n",
      "Configuration saved in /home/suyogyat/research/models/checkpoint-3500/config.json\n",
      "Model weights saved in /home/suyogyat/research/models/checkpoint-3500/pytorch_model.bin\n",
      "tokenizer config file saved in /home/suyogyat/research/models/checkpoint-3500/tokenizer_config.json\n",
      "Special tokens file saved in /home/suyogyat/research/models/checkpoint-3500/special_tokens_map.json\n",
      "Deleting older checkpoint [/home/suyogyat/research/models/checkpoint-3000] due to args.save_total_limit\n",
      "***** Running Evaluation *****\n",
      "  Num examples = 3000\n",
      "  Batch size = 32\n",
      "Saving model checkpoint to /home/suyogyat/research/models/checkpoint-4000\n",
      "Configuration saved in /home/suyogyat/research/models/checkpoint-4000/config.json\n",
      "Model weights saved in /home/suyogyat/research/models/checkpoint-4000/pytorch_model.bin\n",
      "tokenizer config file saved in /home/suyogyat/research/models/checkpoint-4000/tokenizer_config.json\n",
      "Special tokens file saved in /home/suyogyat/research/models/checkpoint-4000/special_tokens_map.json\n",
      "Deleting older checkpoint [/home/suyogyat/research/models/checkpoint-3500] due to args.save_total_limit\n",
      "\n",
      "\n",
      "Training completed. Do not forget to share your model on huggingface.co/models =)\n",
      "\n",
      "\n",
      "Loading best model from /home/suyogyat/research/models/checkpoint-1500 (score: 0.8218408823013306).\n"
     ]
    },
    {
     "data": {
      "text/plain": [
       "TrainOutput(global_step=4000, training_loss=0.48658241844177247, metrics={'train_runtime': 1996.1871, 'train_samples_per_second': 120.229, 'train_steps_per_second': 3.757, 'total_flos': 1.696126992384e+16, 'train_loss': 0.48658241844177247, 'epoch': 5.33})"
      ]
     },
     "execution_count": 19,
     "metadata": {},
     "output_type": "execute_result"
    }
   ],
   "source": [
    "trainer.train()"
   ]
  },
  {
   "cell_type": "markdown",
   "id": "2830b3e9-4275-4527-956a-14fc15809162",
   "metadata": {},
   "source": [
    "## Testing Phase"
   ]
  },
  {
   "cell_type": "code",
   "execution_count": 21,
   "id": "0d377d18-61a8-4aa4-850e-825485d2caff",
   "metadata": {},
   "outputs": [],
   "source": [
    "def do_predictions():\n",
    "    y_true = tokenized_dataset['test']['labels']\n",
    "    print('y_true loaded from test dataset!')\n",
    "\n",
    "    print('Starting predictions...')\n",
    "    prediction_result = trainer.predict(tokenized_dataset['test'])\n",
    "    raw_preds, _, test_metrics = prediction_result\n",
    "    print('Predictions complete.')\n",
    "\n",
    "    y_pred = [np.argmax(prediction) for prediction in raw_preds]\n",
    "    print('y_pred added !')\n",
    "\n",
    "    return y_true, y_pred, test_metrics, prediction_result"
   ]
  },
  {
   "cell_type": "code",
   "execution_count": 22,
   "id": "b1e8ada0-8195-4cf1-a15c-e4ce6b3d779e",
   "metadata": {},
   "outputs": [],
   "source": [
    "def show_confusion_matrix():\n",
    "    data = {'y_true': y_true, 'y_pred': y_pred}\n",
    "    df = pd.DataFrame(data, columns=['y_true', 'y_pred'])\n",
    "\n",
    "    labels_to_category = {}\n",
    "    for key, value in model.config.id2label.items():\n",
    "        labels_to_category[int(key)] = value\n",
    "\n",
    "    df.y_true = df.y_true.map(labels_to_category)\n",
    "    df.y_pred = df.y_pred.map(labels_to_category)\n",
    "\n",
    "    confusion_matrix = pd.crosstab(df['y_true'], df['y_pred'], rownames=['Actual Category'], colnames=['Predicted Category'], margins=False)\n",
    "    fig = plt.figure(figsize=(10, 10))\n",
    "\n",
    "    plt.clf()\n",
    "    ax = fig.add_subplot(111)\n",
    "    ax.set_aspect(1)\n",
    "    sns.heatmap(confusion_matrix, annot=True, cmap=\"Blues\", fmt='g')\n",
    "    plt.title(f'{MODEL_ID}\\nLR = {LEARNING_RATE}\\nTest Accuracy = {round(test_metrics[\"test_accuracy\"], 4)}\\n')\n",
    "    plt.show()"
   ]
  },
  {
   "cell_type": "markdown",
   "id": "e6bad2e2-b186-462b-96f7-02cecc591e23",
   "metadata": {},
   "source": [
    "### Predict on Test Dataset"
   ]
  },
  {
   "cell_type": "code",
   "execution_count": 23,
   "id": "a5d8d7aa-4eab-4d82-b6ef-f6228506047f",
   "metadata": {},
   "outputs": [
    {
     "name": "stderr",
     "output_type": "stream",
     "text": [
      "***** Running Prediction *****\n",
      "  Num examples = 3000\n",
      "  Batch size = 32\n"
     ]
    },
    {
     "name": "stdout",
     "output_type": "stream",
     "text": [
      "y_true loaded from test dataset!\n",
      "Starting predictions...\n"
     ]
    },
    {
     "data": {
      "text/html": [],
      "text/plain": [
       "<IPython.core.display.HTML object>"
      ]
     },
     "metadata": {},
     "output_type": "display_data"
    },
    {
     "name": "stdout",
     "output_type": "stream",
     "text": [
      "Predictions complete.\n",
      "y_pred added !\n"
     ]
    }
   ],
   "source": [
    "y_true, y_pred, test_metrics, prediction_result = do_predictions()"
   ]
  },
  {
   "cell_type": "markdown",
   "id": "1d29169b-d13b-48c7-9e45-7edf0ec34ca5",
   "metadata": {},
   "source": [
    "### Classification Report"
   ]
  },
  {
   "cell_type": "code",
   "execution_count": 24,
   "id": "6b04fd69-87ff-4db6-aa72-f7bda606cd0e",
   "metadata": {},
   "outputs": [
    {
     "name": "stdout",
     "output_type": "stream",
     "text": [
      "               precision    recall  f1-score   support\n",
      "\n",
      "         Arts       0.57      0.78      0.66       150\n",
      "   Automobile       0.79      0.95      0.86       150\n",
      "         Bank       0.75      0.75      0.75       150\n",
      "     Business       0.41      0.35      0.38       150\n",
      "        Crime       0.74      0.92      0.82       150\n",
      "      Economy       0.40      0.17      0.24       150\n",
      "    Education       0.90      0.91      0.91       150\n",
      "   Employment       0.79      0.89      0.84       150\n",
      "Entertainment       0.90      0.61      0.73       150\n",
      "       Health       0.74      0.64      0.69       150\n",
      "    Lifestyle       0.81      0.88      0.85       150\n",
      "   Literature       0.71      0.83      0.77       150\n",
      "       Market       0.82      0.66      0.73       150\n",
      "      Opinion       0.90      0.83      0.87       150\n",
      "     Politics       0.85      0.78      0.81       150\n",
      "      Society       0.59      0.41      0.48       150\n",
      "       Sports       0.97      0.95      0.96       150\n",
      "   Technology       0.74      0.88      0.80       150\n",
      "      Tourism       0.70      0.87      0.78       150\n",
      "        World       0.67      0.82      0.74       150\n",
      "\n",
      "     accuracy                           0.74      3000\n",
      "    macro avg       0.74      0.74      0.73      3000\n",
      " weighted avg       0.74      0.74      0.73      3000\n",
      "\n"
     ]
    }
   ],
   "source": [
    "print(classification_report(y_true, y_pred, target_names=model.config.label2id.keys()))"
   ]
  },
  {
   "cell_type": "markdown",
   "id": "bde89e19-4d4d-4d44-9e85-2cdafbfe5290",
   "metadata": {},
   "source": [
    "### Confusion Matrix"
   ]
  },
  {
   "cell_type": "code",
   "execution_count": 25,
   "id": "08cbbbc4-ed62-4496-adbd-8db8102c21bc",
   "metadata": {},
   "outputs": [
    {
     "data": {
      "image/png": "[encoded data removed]",
      "text/plain": [
       "<Figure size 1000x1000 with 2 Axes>"
      ]
     },
     "metadata": {},
     "output_type": "display_data"
    }
   ],
   "source": [
    "show_confusion_matrix()"
   ]
  },
  {
   "cell_type": "code",
   "execution_count": null,
   "id": "54581d9f-e4b8-4bf3-8ff1-f82d5dea160c",
   "metadata": {},
   "outputs": [],
   "source": []
  },
  {
   "cell_type": "code",
   "execution_count": null,
   "id": "91979bea-15b0-4688-a0d0-7578277cac81",
   "metadata": {},
   "outputs": [],
   "source": []
  }
 ],
 "metadata": {
  "kernelspec": {
   "display_name": ".RNN",
   "language": "python",
   "name": ".rnn"
  },
  "language_info": {
   "codemirror_mode": {
    "name": "ipython",
    "version": 3
   },
   "file_extension": ".py",
   "mimetype": "text/x-python",
   "name": "python",
   "nbconvert_exporter": "python",
   "pygments_lexer": "ipython3",
   "version": "3.8.10"
  }
 },
 "nbformat": 4,
 "nbformat_minor": 5
}
