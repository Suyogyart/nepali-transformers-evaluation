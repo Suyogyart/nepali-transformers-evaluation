{
 "cells": [
  {
   "cell_type": "markdown",
   "metadata": {},
   "source": [
    "# Preprocessing usage Example"
   ]
  },
  {
   "cell_type": "markdown",
   "metadata": {},
   "source": [
    "## Preprocessing steps"
   ]
  },
  {
   "cell_type": "code",
   "execution_count": 20,
   "metadata": {},
   "outputs": [],
   "source": [
    "from preprocessor import *"
   ]
  },
  {
   "cell_type": "markdown",
   "metadata": {},
   "source": [
    "`preprocessor` consists of methods required to clean Nepali text."
   ]
  },
  {
   "cell_type": "code",
   "execution_count": 17,
   "metadata": {},
   "outputs": [
    {
     "name": "stdout",
     "output_type": "stream",
     "text": [
      "Sample Text: \n",
      " १२ कात्तिक गते, काठमाडौं । वैज्ञानिक आइन्स्टाइनको नाम  कसलाई पो थाहा छैन होला र??? \n",
      "मनुष्य जीवनको दैनिकीकै सम्बन्ध आइन्स्टाइनको सापेक्षवादको सिद्धान्त ((जनरल रिलेटीभिटी थ्योरी) (General Relativity Theory) सँग जोडिएको छ ।।। \n",
      "आइन्स्टाइनले सबैभन्दा पहिले सन 1905 तिर   सापेक्षवादको सिद्धान्त प्रस्तुत गरेका थिए। सन् १९२० सम्म आउँदा उनको ‘सिद्धान्त’ ले विज्ञानलाई  दुई भागमा बाँडिदियो – ‘क्लासिकल फिजिक्स’ (Classical Physics) र ‘मोडर्न फिजिक्स’ (Modern Physics)। \n",
      "उनको यस सिद्धान्तका साथै अन्य सिद्धान्तले पहिलेका वैज्ञानिक र तिनका विभिन्न मान्यताका साथै  विज्ञानका अनेकौं सिद्धान्त र मान्यतालाई खण्डित गर्ने काम गरे । आइन्स्टाइन आधुनिक विज्ञानका पिताकै रूपमा गनिए ।\n"
     ]
    }
   ],
   "source": [
    "with open('sample_text_1.txt') as f:\n",
    "    sample_text_1 = f.read()\n",
    "print('Sample Text: \\n', sample_text_1)"
   ]
  },
  {
   "cell_type": "markdown",
   "metadata": {},
   "source": [
    "### Load Nepali stop words\n",
    "\n",
    "As NLTK library does not have entire list of Nepali stopwords, we add some more stopwords to curate a new updated list."
   ]
  },
  {
   "cell_type": "code",
   "execution_count": 18,
   "metadata": {},
   "outputs": [
    {
     "name": "stdout",
     "output_type": "stream",
     "text": [
      "Total no. of Nepali stopwords: 501\n"
     ]
    }
   ],
   "source": [
    "with open('nepali_stopwords.txt') as f:\n",
    "    STOPWORDS = [word.strip() for word in f.readlines()]\n",
    "    \n",
    "print(f'Total no. of Nepali stopwords: {len(STOPWORDS)}')"
   ]
  },
  {
   "cell_type": "markdown",
   "metadata": {},
   "source": [
    "### Convert English digits to Nepali\n",
    "\n",
    "`1905` gets converted to `१९०५`\n",
    "\n",
    "This needs to be run first before removing non-Devanagari characters."
   ]
  },
  {
   "cell_type": "code",
   "execution_count": 46,
   "metadata": {},
   "outputs": [
    {
     "name": "stdout",
     "output_type": "stream",
     "text": [
      "Input:\n",
      "१२ कात्तिक गते, काठमाडौं । वैज्ञानिक आइन्स्टाइनको नाम  कसलाई पो थाहा छैन होला र??? \n",
      "मनुष्य जीवनको दैनिकीकै सम्बन्ध आइन्स्टाइनको सापेक्षवादको सिद्धान्त ((जनरल रिलेटीभिटी थ्योरी) (General Relativity Theory) सँग जोडिएको छ ।।। \n",
      "आइन्स्टाइनले सबैभन्दा पहिले सन 1905 तिर   सापेक्षवादको सिद्धान्त प्रस्तुत गरेका थिए। सन् १९२० सम्म आउँदा उनको ‘सिद्धान्त’ ले विज्ञानलाई  दुई भागमा बाँडिदियो – ‘क्लासिकल फिजिक्स’ (Classical Physics) र ‘मोडर्न फिजिक्स’ (Modern Physics)। \n",
      "उनको यस सिद्धान्तका साथै अन्य सिद्धान्तले पहिलेका वैज्ञानिक र तिनका विभिन्न मान्यताका साथै  विज्ञानका अनेकौं सिद्धान्त र मान्यतालाई खण्डित गर्ने काम गरे । आइन्स्टाइन आधुनिक विज्ञानका पिताकै रूपमा गनिए ।\n",
      "\n",
      "Output:\n",
      "१२ कात्तिक गते, काठमाडौं । वैज्ञानिक आइन्स्टाइनको नाम  कसलाई पो थाहा छैन होला र??? \n",
      "मनुष्य जीवनको दैनिकीकै सम्बन्ध आइन्स्टाइनको सापेक्षवादको सिद्धान्त ((जनरल रिलेटीभिटी थ्योरी) (General Relativity Theory) सँग जोडिएको छ ।।। \n",
      "आइन्स्टाइनले सबैभन्दा पहिले सन १९०५ तिर   सापेक्षवादको सिद्धान्त प्रस्तुत गरेका थिए। सन् १९२० सम्म आउँदा उनको ‘सिद्धान्त’ ले विज्ञानलाई  दुई भागमा बाँडिदियो – ‘क्लासिकल फिजिक्स’ (Classical Physics) र ‘मोडर्न फिजिक्स’ (Modern Physics)। \n",
      "उनको यस सिद्धान्तका साथै अन्य सिद्धान्तले पहिलेका वैज्ञानिक र तिनका विभिन्न मान्यताका साथै  विज्ञानका अनेकौं सिद्धान्त र मान्यतालाई खण्डित गर्ने काम गरे । आइन्स्टाइन आधुनिक विज्ञानका पिताकै रूपमा गनिए ।\n"
     ]
    }
   ],
   "source": [
    "print(f'Input:\\n{sample_text_1}\\n')\n",
    "print('Output:')\n",
    "text = convert_english_digits_to_nepali(sample_text_1)\n",
    "print(text)"
   ]
  },
  {
   "cell_type": "markdown",
   "metadata": {},
   "source": [
    "### Remove repeating line terminators and punctuations\n",
    "\n",
    "Repetition of punctuation symbols are removed. For example, '???' becomes '?'."
   ]
  },
  {
   "cell_type": "code",
   "execution_count": 47,
   "metadata": {},
   "outputs": [
    {
     "name": "stdout",
     "output_type": "stream",
     "text": [
      "Input:\n",
      "१२ कात्तिक गते, काठमाडौं । वैज्ञानिक आइन्स्टाइनको नाम  कसलाई पो थाहा छैन होला र??? \n",
      "मनुष्य जीवनको दैनिकीकै सम्बन्ध आइन्स्टाइनको सापेक्षवादको सिद्धान्त ((जनरल रिलेटीभिटी थ्योरी) (General Relativity Theory) सँग जोडिएको छ ।।। \n",
      "आइन्स्टाइनले सबैभन्दा पहिले सन १९०५ तिर   सापेक्षवादको सिद्धान्त प्रस्तुत गरेका थिए। सन् १९२० सम्म आउँदा उनको ‘सिद्धान्त’ ले विज्ञानलाई  दुई भागमा बाँडिदियो – ‘क्लासिकल फिजिक्स’ (Classical Physics) र ‘मोडर्न फिजिक्स’ (Modern Physics)। \n",
      "उनको यस सिद्धान्तका साथै अन्य सिद्धान्तले पहिलेका वैज्ञानिक र तिनका विभिन्न मान्यताका साथै  विज्ञानका अनेकौं सिद्धान्त र मान्यतालाई खण्डित गर्ने काम गरे । आइन्स्टाइन आधुनिक विज्ञानका पिताकै रूपमा गनिए ।\n",
      "\n",
      "Output:\n",
      "१२ कात्तिक गते, काठमाडौं । वैज्ञानिक आइन्स्टाइनको नाम  कसलाई पो थाहा छैन होला र? \n",
      "मनुष्य जीवनको दैनिकीकै सम्बन्ध आइन्स्टाइनको सापेक्षवादको सिद्धान्त ((जनरल रिलेटीभिटी थ्योरी) (General Relativity Theory) सँग जोडिएको छ । \n",
      "आइन्स्टाइनले सबैभन्दा पहिले सन १९०५ तिर   सापेक्षवादको सिद्धान्त प्रस्तुत गरेका थिए। सन् १९२० सम्म आउँदा उनको ‘सिद्धान्त’ ले विज्ञानलाई  दुई भागमा बाँडिदियो – ‘क्लासिकल फिजिक्स’ (Classical Physics) र ‘मोडर्न फिजिक्स’ (Modern Physics)। \n",
      "उनको यस सिद्धान्तका साथै अन्य सिद्धान्तले पहिलेका वैज्ञानिक र तिनका विभिन्न मान्यताका साथै  विज्ञानका अनेकौं सिद्धान्त र मान्यतालाई खण्डित गर्ने काम गरे । आइन्स्टाइन आधुनिक विज्ञानका पिताकै रूपमा गनिए ।\n"
     ]
    }
   ],
   "source": [
    "print(f'Input:\\n{text}\\n')\n",
    "print('Output:')\n",
    "text = remove_repeating_line_terminators_or_punctuations(text)\n",
    "print(text)"
   ]
  },
  {
   "cell_type": "markdown",
   "metadata": {},
   "source": [
    "### Keep only Devanagari script\n",
    "\n",
    "Only Devanagari script unicode range and punctuations part of Nepali are kept."
   ]
  },
  {
   "cell_type": "code",
   "execution_count": 48,
   "metadata": {},
   "outputs": [
    {
     "name": "stdout",
     "output_type": "stream",
     "text": [
      "Input:\n",
      "१२ कात्तिक गते, काठमाडौं । वैज्ञानिक आइन्स्टाइनको नाम  कसलाई पो थाहा छैन होला र? \n",
      "मनुष्य जीवनको दैनिकीकै सम्बन्ध आइन्स्टाइनको सापेक्षवादको सिद्धान्त ((जनरल रिलेटीभिटी थ्योरी) (General Relativity Theory) सँग जोडिएको छ । \n",
      "आइन्स्टाइनले सबैभन्दा पहिले सन १९०५ तिर   सापेक्षवादको सिद्धान्त प्रस्तुत गरेका थिए। सन् १९२० सम्म आउँदा उनको ‘सिद्धान्त’ ले विज्ञानलाई  दुई भागमा बाँडिदियो – ‘क्लासिकल फिजिक्स’ (Classical Physics) र ‘मोडर्न फिजिक्स’ (Modern Physics)। \n",
      "उनको यस सिद्धान्तका साथै अन्य सिद्धान्तले पहिलेका वैज्ञानिक र तिनका विभिन्न मान्यताका साथै  विज्ञानका अनेकौं सिद्धान्त र मान्यतालाई खण्डित गर्ने काम गरे । आइन्स्टाइन आधुनिक विज्ञानका पिताकै रूपमा गनिए ।\n",
      "\n",
      "Output:\n",
      "१२ कात्तिक गते  काठमाडौं । वैज्ञानिक आइन्स्टाइनको नाम  कसलाई पो थाहा छैन होला र?  मनुष्य जीवनको दैनिकीकै सम्बन्ध आइन्स्टाइनको सापेक्षवादको सिद्धान्त   जनरल रिलेटीभिटी थ्योरी                              सँग जोडिएको छ ।  आइन्स्टाइनले सबैभन्दा पहिले सन १९०५ तिर   सापेक्षवादको सिद्धान्त प्रस्तुत गरेका थिए। सन् १९२० सम्म आउँदा उनको  सिद्धान्त  ले विज्ञानलाई  दुई भागमा बाँडिदियो    क्लासिकल फिजिक्स                      र  मोडर्न फिजिक्स                  ।  उनको यस सिद्धान्तका साथै अन्य सिद्धान्तले पहिलेका वैज्ञानिक र तिनका विभिन्न मान्यताका साथै  विज्ञानका अनेकौं सिद्धान्त र मान्यतालाई खण्डित गर्ने काम गरे । आइन्स्टाइन आधुनिक विज्ञानका पिताकै रूपमा गनिए ।\n"
     ]
    }
   ],
   "source": [
    "print(f'Input:\\n{text}\\n')\n",
    "print('Output:')\n",
    "text = keep_only_devanagari_script(text)\n",
    "print(text)"
   ]
  },
  {
   "cell_type": "markdown",
   "metadata": {},
   "source": [
    "### Wrap line terminators with spaces\n",
    "\n",
    "For the cases where the line terminator symbols are attached with the word, they need to be separated."
   ]
  },
  {
   "cell_type": "code",
   "execution_count": 49,
   "metadata": {},
   "outputs": [
    {
     "name": "stdout",
     "output_type": "stream",
     "text": [
      "Input:\n",
      "१२ कात्तिक गते  काठमाडौं । वैज्ञानिक आइन्स्टाइनको नाम  कसलाई पो थाहा छैन होला र?  मनुष्य जीवनको दैनिकीकै सम्बन्ध आइन्स्टाइनको सापेक्षवादको सिद्धान्त   जनरल रिलेटीभिटी थ्योरी                              सँग जोडिएको छ ।  आइन्स्टाइनले सबैभन्दा पहिले सन १९०५ तिर   सापेक्षवादको सिद्धान्त प्रस्तुत गरेका थिए। सन् १९२० सम्म आउँदा उनको  सिद्धान्त  ले विज्ञानलाई  दुई भागमा बाँडिदियो    क्लासिकल फिजिक्स                      र  मोडर्न फिजिक्स                  ।  उनको यस सिद्धान्तका साथै अन्य सिद्धान्तले पहिलेका वैज्ञानिक र तिनका विभिन्न मान्यताका साथै  विज्ञानका अनेकौं सिद्धान्त र मान्यतालाई खण्डित गर्ने काम गरे । आइन्स्टाइन आधुनिक विज्ञानका पिताकै रूपमा गनिए ।\n",
      "\n",
      "Output:\n",
      "१२ कात्तिक गते  काठमाडौं  ।  वैज्ञानिक आइन्स्टाइनको नाम  कसलाई पो थाहा छैन होला र ?   मनुष्य जीवनको दैनिकीकै सम्बन्ध आइन्स्टाइनको सापेक्षवादको सिद्धान्त   जनरल रिलेटीभिटी थ्योरी                              सँग जोडिएको छ  ।   आइन्स्टाइनले सबैभन्दा पहिले सन १९०५ तिर   सापेक्षवादको सिद्धान्त प्रस्तुत गरेका थिए ।  सन् १९२० सम्म आउँदा उनको  सिद्धान्त  ले विज्ञानलाई  दुई भागमा बाँडिदियो    क्लासिकल फिजिक्स                      र  मोडर्न फिजिक्स                   ।   उनको यस सिद्धान्तका साथै अन्य सिद्धान्तले पहिलेका वैज्ञानिक र तिनका विभिन्न मान्यताका साथै  विज्ञानका अनेकौं सिद्धान्त र मान्यतालाई खण्डित गर्ने काम गरे  ।  आइन्स्टाइन आधुनिक विज्ञानका पिताकै रूपमा गनिए  । \n"
     ]
    }
   ],
   "source": [
    "print(f'Input:\\n{text}\\n')\n",
    "print('Output:')\n",
    "text = wrap_line_terminators_with_spaces(text)\n",
    "print(text)"
   ]
  },
  {
   "cell_type": "markdown",
   "metadata": {},
   "source": [
    "### Remove publication date and location info\n",
    "\n",
    "This is specific to news articles. Some news articles have dates and news location at the beginning which may not add any value. This is a rule-based approach (based on specific words and sentence length) to remove them. "
   ]
  },
  {
   "cell_type": "code",
   "execution_count": 50,
   "metadata": {},
   "outputs": [
    {
     "name": "stdout",
     "output_type": "stream",
     "text": [
      "Input:\n",
      "१२ कात्तिक गते  काठमाडौं  ।  वैज्ञानिक आइन्स्टाइनको नाम  कसलाई पो थाहा छैन होला र ?   मनुष्य जीवनको दैनिकीकै सम्बन्ध आइन्स्टाइनको सापेक्षवादको सिद्धान्त   जनरल रिलेटीभिटी थ्योरी                              सँग जोडिएको छ  ।   आइन्स्टाइनले सबैभन्दा पहिले सन १९०५ तिर   सापेक्षवादको सिद्धान्त प्रस्तुत गरेका थिए ।  सन् १९२० सम्म आउँदा उनको  सिद्धान्त  ले विज्ञानलाई  दुई भागमा बाँडिदियो    क्लासिकल फिजिक्स                      र  मोडर्न फिजिक्स                   ।   उनको यस सिद्धान्तका साथै अन्य सिद्धान्तले पहिलेका वैज्ञानिक र तिनका विभिन्न मान्यताका साथै  विज्ञानका अनेकौं सिद्धान्त र मान्यतालाई खण्डित गर्ने काम गरे  ।  आइन्स्टाइन आधुनिक विज्ञानका पिताकै रूपमा गनिए  । \n",
      "\n",
      "Output:\n",
      " वैज्ञानिक आइन्स्टाइनको नाम  कसलाई पो थाहा छैन होला र ?   मनुष्य जीवनको दैनिकीकै सम्बन्ध आइन्स्टाइनको सापेक्षवादको सिद्धान्त   जनरल रिलेटीभिटी थ्योरी                              सँग जोडिएको छ  ।   आइन्स्टाइनले सबैभन्दा पहिले सन १९०५ तिर   सापेक्षवादको सिद्धान्त प्रस्तुत गरेका थिए ।  सन् १९२० सम्म आउँदा उनको  सिद्धान्त  ले विज्ञानलाई  दुई भागमा बाँडिदियो    क्लासिकल फिजिक्स                      र  मोडर्न फिजिक्स                   ।   उनको यस सिद्धान्तका साथै अन्य सिद्धान्तले पहिलेका वैज्ञानिक र तिनका विभिन्न मान्यताका साथै  विज्ञानका अनेकौं सिद्धान्त र मान्यतालाई खण्डित गर्ने काम गरे  ।  आइन्स्टाइन आधुनिक विज्ञानका पिताकै रूपमा गनिए  । \n"
     ]
    }
   ],
   "source": [
    "print(f'Input:\\n{text}\\n')\n",
    "print('Output:')\n",
    "text = remove_publication_date_and_location(text)\n",
    "print(text)"
   ]
  },
  {
   "cell_type": "markdown",
   "metadata": {},
   "source": [
    "### Remove extra white spaces\n",
    "\n",
    "After preprocessing steps, we are left with multiple white spaces around, which will be removed at the end."
   ]
  },
  {
   "cell_type": "code",
   "execution_count": 51,
   "metadata": {},
   "outputs": [
    {
     "name": "stdout",
     "output_type": "stream",
     "text": [
      "Input:\n",
      " वैज्ञानिक आइन्स्टाइनको नाम  कसलाई पो थाहा छैन होला र ?   मनुष्य जीवनको दैनिकीकै सम्बन्ध आइन्स्टाइनको सापेक्षवादको सिद्धान्त   जनरल रिलेटीभिटी थ्योरी                              सँग जोडिएको छ  ।   आइन्स्टाइनले सबैभन्दा पहिले सन १९०५ तिर   सापेक्षवादको सिद्धान्त प्रस्तुत गरेका थिए ।  सन् १९२० सम्म आउँदा उनको  सिद्धान्त  ले विज्ञानलाई  दुई भागमा बाँडिदियो    क्लासिकल फिजिक्स                      र  मोडर्न फिजिक्स                   ।   उनको यस सिद्धान्तका साथै अन्य सिद्धान्तले पहिलेका वैज्ञानिक र तिनका विभिन्न मान्यताका साथै  विज्ञानका अनेकौं सिद्धान्त र मान्यतालाई खण्डित गर्ने काम गरे  ।  आइन्स्टाइन आधुनिक विज्ञानका पिताकै रूपमा गनिए  । \n",
      "\n",
      "Output:\n",
      "वैज्ञानिक आइन्स्टाइनको नाम कसलाई पो थाहा छैन होला र ? मनुष्य जीवनको दैनिकीकै सम्बन्ध आइन्स्टाइनको सापेक्षवादको सिद्धान्त जनरल रिलेटीभिटी थ्योरी सँग जोडिएको छ । आइन्स्टाइनले सबैभन्दा पहिले सन १९०५ तिर सापेक्षवादको सिद्धान्त प्रस्तुत गरेका थिए । सन् १९२० सम्म आउँदा उनको सिद्धान्त ले विज्ञानलाई दुई भागमा बाँडिदियो क्लासिकल फिजिक्स र मोडर्न फिजिक्स । उनको यस सिद्धान्तका साथै अन्य सिद्धान्तले पहिलेका वैज्ञानिक र तिनका विभिन्न मान्यताका साथै विज्ञानका अनेकौं सिद्धान्त र मान्यतालाई खण्डित गर्ने काम गरे । आइन्स्टाइन आधुनिक विज्ञानका पिताकै रूपमा गनिए ।\n"
     ]
    }
   ],
   "source": [
    "print(f'Input:\\n{text}\\n')\n",
    "print('Output:')\n",
    "text = remove_extra_whitespaces(text)\n",
    "print(text)"
   ]
  },
  {
   "cell_type": "markdown",
   "metadata": {},
   "source": [
    "### Removing Nepali stop words\n",
    "\n",
    "This uses a Nepali stemmer to stem the text first. Stemming will separate the text stems with the root word, and based on the pre-defined stop words list, they are removed from the text."
   ]
  },
  {
   "cell_type": "code",
   "execution_count": 52,
   "metadata": {},
   "outputs": [
    {
     "name": "stdout",
     "output_type": "stream",
     "text": [
      "Input:\n",
      "वैज्ञानिक आइन्स्टाइनको नाम कसलाई पो थाहा छैन होला र ? मनुष्य जीवनको दैनिकीकै सम्बन्ध आइन्स्टाइनको सापेक्षवादको सिद्धान्त जनरल रिलेटीभिटी थ्योरी सँग जोडिएको छ । आइन्स्टाइनले सबैभन्दा पहिले सन १९०५ तिर सापेक्षवादको सिद्धान्त प्रस्तुत गरेका थिए । सन् १९२० सम्म आउँदा उनको सिद्धान्त ले विज्ञानलाई दुई भागमा बाँडिदियो क्लासिकल फिजिक्स र मोडर्न फिजिक्स । उनको यस सिद्धान्तका साथै अन्य सिद्धान्तले पहिलेका वैज्ञानिक र तिनका विभिन्न मान्यताका साथै विज्ञानका अनेकौं सिद्धान्त र मान्यतालाई खण्डित गर्ने काम गरे । आइन्स्टाइन आधुनिक विज्ञानका पिताकै रूपमा गनिए ।\n",
      "\n",
      "Output:\n",
      "वैज्ञानिक आइन्स्टाइन नाम कस ? मनुष्य जीवन दैनि की कै सम्बन्ध आइन्स्टाइन सापेक्षवाद सिद्धान्त जनरल रिलेटीभिटी थ्योरी जोडिए । आइन्स्टाइन सन १९०५ सापेक्षवाद सिद्धान्त प्रस्तुत । सन् १९२० आउँदा सिद्धान्त विज्ञान भाग बाँडिदियो क्लासिकल फिजिक्स मोडर्न फिजिक्स । सिद्धान्त सिद्धान्त वैज्ञानिक विभिन्न मान्यता विज्ञान अनेकौं सिद्धान्त मान्यता खण्डित । आइन्स्टाइन आधुनिक विज्ञान पिता कै गनिए ।\n"
     ]
    }
   ],
   "source": [
    "print(f'Input:\\n{text}\\n')\n",
    "print('Output:')\n",
    "text = remove_nepali_stopwords(text, stopwords=STOPWORDS)\n",
    "print(text)"
   ]
  },
  {
   "cell_type": "markdown",
   "metadata": {},
   "source": [
    "### Removing Nepali digits\n",
    "\n",
    "Digits may be removed entirely from the text or replaced with some other characters."
   ]
  },
  {
   "cell_type": "code",
   "execution_count": 53,
   "metadata": {},
   "outputs": [
    {
     "name": "stdout",
     "output_type": "stream",
     "text": [
      "Input:\n",
      "वैज्ञानिक आइन्स्टाइन नाम कस ? मनुष्य जीवन दैनि की कै सम्बन्ध आइन्स्टाइन सापेक्षवाद सिद्धान्त जनरल रिलेटीभिटी थ्योरी जोडिए । आइन्स्टाइन सन १९०५ सापेक्षवाद सिद्धान्त प्रस्तुत । सन् १९२० आउँदा सिद्धान्त विज्ञान भाग बाँडिदियो क्लासिकल फिजिक्स मोडर्न फिजिक्स । सिद्धान्त सिद्धान्त वैज्ञानिक विभिन्न मान्यता विज्ञान अनेकौं सिद्धान्त मान्यता खण्डित । आइन्स्टाइन आधुनिक विज्ञान पिता कै गनिए ।\n",
      "\n",
      "Output:\n",
      "वैज्ञानिक आइन्स्टाइन नाम कस ? मनुष्य जीवन दैनि की कै सम्बन्ध आइन्स्टाइन सापेक्षवाद सिद्धान्त जनरल रिलेटीभिटी थ्योरी जोडिए । आइन्स्टाइन सन  सापेक्षवाद सिद्धान्त प्रस्तुत । सन्  आउँदा सिद्धान्त विज्ञान भाग बाँडिदियो क्लासिकल फिजिक्स मोडर्न फिजिक्स । सिद्धान्त सिद्धान्त वैज्ञानिक विभिन्न मान्यता विज्ञान अनेकौं सिद्धान्त मान्यता खण्डित । आइन्स्टाइन आधुनिक विज्ञान पिता कै गनिए ।\n"
     ]
    }
   ],
   "source": [
    "print(f'Input:\\n{text}\\n')\n",
    "print('Output:')\n",
    "text = remove_nepali_digits(text, digit_replacement_character='')\n",
    "print(text)"
   ]
  },
  {
   "cell_type": "markdown",
   "metadata": {},
   "source": [
    "## Preprocessing a dataframe"
   ]
  },
  {
   "cell_type": "code",
   "execution_count": 55,
   "metadata": {},
   "outputs": [],
   "source": [
    "# Helper function to preprocess Nepali text\n",
    "def preprocess(text):\n",
    "    \"\"\"Preprocesses the given text with set of methods\n",
    "\n",
    "    Parameters\n",
    "    ----------\n",
    "    text : str\n",
    "        Text to preprocess.\n",
    "\n",
    "    Returns\n",
    "    -------\n",
    "    str\n",
    "        Clean text.\n",
    "    \"\"\"\n",
    "    text = convert_english_digits_to_nepali(text)\n",
    "    text = remove_repeating_line_terminators_or_punctuations(text)\n",
    "    text = keep_only_devanagari_script(text)\n",
    "    text = wrap_line_terminators_with_spaces(text)\n",
    "    text = remove_publication_date_and_location(text)\n",
    "    # text = remove_nepali_digits(text)\n",
    "    # text = remove_nepali_stopwords(text, STOPWORDS)\n",
    "    text = remove_extra_whitespaces(text)\n",
    "    \n",
    "    return text"
   ]
  },
  {
   "cell_type": "markdown",
   "metadata": {},
   "source": [
    "### Load a sample dataframe"
   ]
  },
  {
   "cell_type": "code",
   "execution_count": null,
   "metadata": {},
   "outputs": [],
   "source": []
  }
 ],
 "metadata": {
  "kernelspec": {
   "display_name": "Python 3.8.3 64-bit",
   "language": "python",
   "name": "python3"
  },
  "language_info": {
   "codemirror_mode": {
    "name": "ipython",
    "version": 3
   },
   "file_extension": ".py",
   "mimetype": "text/x-python",
   "name": "python",
   "nbconvert_exporter": "python",
   "pygments_lexer": "ipython3",
   "version": "3.8.3"
  },
  "orig_nbformat": 4,
  "vscode": {
   "interpreter": {
    "hash": "aee8b7b246df8f9039afb4144a1f6fd8d2ca17a180786b69acc140d282b71a49"
   }
  }
 },
 "nbformat": 4,
 "nbformat_minor": 2
}
