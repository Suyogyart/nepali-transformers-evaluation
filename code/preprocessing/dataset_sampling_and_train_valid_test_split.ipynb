{
 "cells": [
  {
   "cell_type": "markdown",
   "id": "250a751d-86b4-4d37-93c4-b64812ef6b15",
   "metadata": {},
   "source": [
    "# Dataset Sampling (Different Sizes)\n",
    "\n",
    "We will indicate different sizes of dataset by the terms **30K, 10K, 5K** and **1K**, and these will be the names of\n",
    "respective folders in the data folder.\n",
    "\n",
    "_**Note:** 30K size dataset is sampled from the original dataset, \n",
    "and only content having word count more than 20 and less than 1000 is taken._"
   ]
  },
  {
   "cell_type": "code",
   "execution_count": 3,
   "id": "b80da187-401d-4172-a543-20f690ed7be4",
   "metadata": {},
   "outputs": [],
   "source": [
    "import os\n",
    "import pandas as pd\n",
    "from glob import glob\n",
    "from tqdm.auto import tqdm"
   ]
  },
  {
   "cell_type": "code",
   "execution_count": 5,
   "id": "01d7dbc5-d26e-4fcb-bdf0-157f3c5c90b8",
   "metadata": {},
   "outputs": [],
   "source": [
    "from preprocessor import *"
   ]
  },
  {
   "cell_type": "code",
   "execution_count": 6,
   "id": "a3475888-6f56-4bff-a8e7-8d9f666f5fff",
   "metadata": {},
   "outputs": [],
   "source": [
    "# Get sample from 'df' of 'size' with 'seed'\n",
    "def get_sample(df, size, seed, show_info=True):\n",
    "    \"\"\"Get sample dataframe from Pandas dataframe.\n",
    "    \n",
    "    The sampled dataframe will have equal number of rows in each class.\n",
    "\n",
    "    Parameters\n",
    "    ----------\n",
    "    df : pd.DataFrame\n",
    "        Dataframe to be sampled from.\n",
    "    size : int\n",
    "        Number or rows to sample from each class.\n",
    "    seed : int\n",
    "        Sampling randomness (seed) value.\n",
    "    show_info : bool, optional\n",
    "        Show debug info, by default True\n",
    "\n",
    "    Returns\n",
    "    -------\n",
    "    pd.DataFrame\n",
    "        Sampled dataframe.\n",
    "    \"\"\"\n",
    "    new_df = None\n",
    "    \n",
    "    # Get samples from each category\n",
    "    for category in df.category.unique():\n",
    "        sample = df[df.category == category].sample(n=size, random_state=seed)\n",
    "        if new_df is None:\n",
    "            new_df = sample\n",
    "        else:\n",
    "            new_df = pd.concat([new_df, sample])\n",
    "    new_df.reset_index(inplace=True, drop=True)\n",
    "\n",
    "    if show_info:\n",
    "        print(f'Total Rows: {len(new_df)}, for {size} rows per class.')\n",
    "\n",
    "    return new_df"
   ]
  },
  {
   "cell_type": "code",
   "execution_count": 7,
   "id": "df8cfe19-89c3-45fb-b726-6728eecab180",
   "metadata": {},
   "outputs": [],
   "source": [
    "dataset_path = os.path.join(os.getcwd(), 'dataset')"
   ]
  },
  {
   "cell_type": "code",
   "execution_count": 8,
   "id": "5478a6e4-0e72-4fa6-ae5c-e18820a6cacb",
   "metadata": {},
   "outputs": [],
   "source": [
    "paths = glob(f'{dataset_path}/30K/*.csv')"
   ]
  },
  {
   "cell_type": "code",
   "execution_count": 9,
   "id": "b27d863d-f4ae-4810-91da-940aa46741dc",
   "metadata": {},
   "outputs": [
    {
     "data": {
      "text/plain": [
       "['/home/suyogyat/research/dataset/30K/np20ng_30K_train_nosw.csv',\n",
       " '/home/suyogyat/research/dataset/30K/np16ng_30K_train.csv',\n",
       " '/home/suyogyat/research/dataset/30K/np20ng_30K_test.csv',\n",
       " '/home/suyogyat/research/dataset/30K/np16ng_30K_test_nosw.csv',\n",
       " '/home/suyogyat/research/dataset/30K/np16ng_30K_valid.csv',\n",
       " '/home/suyogyat/research/dataset/30K/np16ng_30K_train_nosw.csv',\n",
       " '/home/suyogyat/research/dataset/30K/np20ng_30K_test_nosw.csv',\n",
       " '/home/suyogyat/research/dataset/30K/np16ng_30K.csv',\n",
       " '/home/suyogyat/research/dataset/30K/np16ng_30K_valid_nosw.csv',\n",
       " '/home/suyogyat/research/dataset/30K/np20ng_30K_valid_nosw.csv',\n",
       " '/home/suyogyat/research/dataset/30K/np16ng_30K_test.csv',\n",
       " '/home/suyogyat/research/dataset/30K/np20ng_30K_valid.csv',\n",
       " '/home/suyogyat/research/dataset/30K/np20ng_30K_train.csv',\n",
       " '/home/suyogyat/research/dataset/30K/np20ng_30K.csv']"
      ]
     },
     "execution_count": 9,
     "metadata": {},
     "output_type": "execute_result"
    }
   ],
   "source": [
    "paths"
   ]
  },
  {
   "cell_type": "markdown",
   "id": "60291df0-1437-4448-b8c8-334678f00a1d",
   "metadata": {},
   "source": [
    "### Reading 30K dataset having 20 classes and 16 classes"
   ]
  },
  {
   "cell_type": "code",
   "execution_count": 10,
   "id": "7f3eb910-4612-4ab6-86da-6f39dcef90c1",
   "metadata": {},
   "outputs": [
    {
     "data": {
      "text/plain": [
       "(30000, 24000)"
      ]
     },
     "execution_count": 10,
     "metadata": {},
     "output_type": "execute_result"
    }
   ],
   "source": [
    "df20 = pd.read_csv('/home/suyogyat/research/dataset/30K/np20ng_30K.csv')\n",
    "df16 = pd.read_csv('/home/suyogyat/research/dataset/30K/np16ng_30K.csv')\n",
    "len(df20), len(df16)"
   ]
  },
  {
   "cell_type": "markdown",
   "id": "312acd7c-514d-40d3-bc60-d90a9d0a8a39",
   "metadata": {},
   "source": [
    "### Sampling each datasets with 3 more data sizes"
   ]
  },
  {
   "cell_type": "code",
   "execution_count": 11,
   "id": "c3b0fb65-cb6b-4ae2-859c-32f50bc7dfa4",
   "metadata": {},
   "outputs": [
    {
     "name": "stdout",
     "output_type": "stream",
     "text": [
      "Total Rows: 10000, for 500 rows per class.\n",
      "Total Rows: 5000, for 250 rows per class.\n",
      "Total Rows: 1000, for 50 rows per class.\n",
      "Total Rows: 8000, for 500 rows per class.\n",
      "Total Rows: 4000, for 250 rows per class.\n",
      "Total Rows: 800, for 50 rows per class.\n"
     ]
    }
   ],
   "source": [
    "df20_10K = get_sample(df=df20, size=10000//20, seed=44)\n",
    "df20_5K = get_sample(df=df20, size=5000//20, seed=44)\n",
    "df20_1K = get_sample(df=df20, size=1000//20, seed=44)\n",
    "\n",
    "df16_10K = get_sample(df=df16, size=500, seed=44)\n",
    "df16_5K = get_sample(df=df16, size=250, seed=44)\n",
    "df16_1K = get_sample(df=df16, size=50, seed=44)"
   ]
  },
  {
   "cell_type": "markdown",
   "id": "b01ca7f9-6a8c-47e2-a123-e354b562269f",
   "metadata": {},
   "source": [
    "### Exporting each datasets"
   ]
  },
  {
   "cell_type": "code",
   "execution_count": 12,
   "id": "56e4ab71-2f2d-4e63-be40-795c18f8fba6",
   "metadata": {},
   "outputs": [
    {
     "name": "stdout",
     "output_type": "stream",
     "text": [
      "Exported 10000 rows to path /home/suyogyat/research/dataset/10K/np20ng_10K.csv.\n",
      "Exported 5000 rows to path /home/suyogyat/research/dataset/5K/np20ng_5K.csv.\n",
      "Exported 1000 rows to path /home/suyogyat/research/dataset/1K/np20ng_1K.csv.\n",
      "Exported 8000 rows to path /home/suyogyat/research/dataset/10K/np16ng_10K.csv.\n",
      "Exported 4000 rows to path /home/suyogyat/research/dataset/5K/np16ng_5K.csv.\n",
      "Exported 800 rows to path /home/suyogyat/research/dataset/1K/np16ng_1K.csv.\n"
     ]
    }
   ],
   "source": [
    "export_df(df20_10K, '/home/suyogyat/research/dataset/10K/np20ng_10K.csv')\n",
    "export_df(df20_5K, '/home/suyogyat/research/dataset/5K/np20ng_5K.csv')\n",
    "export_df(df20_1K, '/home/suyogyat/research/dataset/1K/np20ng_1K.csv')\n",
    "\n",
    "export_df(df16_10K, '/home/suyogyat/research/dataset/10K/np16ng_10K.csv')\n",
    "export_df(df16_5K, '/home/suyogyat/research/dataset/5K/np16ng_5K.csv')\n",
    "export_df(df16_1K, '/home/suyogyat/research/dataset/1K/np16ng_1K.csv')"
   ]
  },
  {
   "cell_type": "markdown",
   "id": "aa695ef8-700f-4c44-8a13-b33dd9092d8c",
   "metadata": {},
   "source": [
    "# Train Validation and Test Splits\n",
    "\n",
    "Following is an example to split data size of **10K** for both 20 classes and 16 classes in the ratio of 80:10:10\n",
    "\n",
    "**_train, _valid** and **_test** are suffixed to the split files."
   ]
  },
  {
   "cell_type": "code",
   "execution_count": 13,
   "id": "a3316b51-93dc-47a4-9e1c-ead633613e88",
   "metadata": {},
   "outputs": [],
   "source": [
    "from sklearn.model_selection import train_test_split"
   ]
  },
  {
   "cell_type": "code",
   "execution_count": 16,
   "id": "9dfcdc32-61d7-4953-8eb9-24a93f5bebde",
   "metadata": {},
   "outputs": [
    {
     "name": "stdout",
     "output_type": "stream",
     "text": [
      "Exported 8000 rows to path /home/suyogyat/research/dataset/10K/np20ng_10K_train.csv.\n",
      "Exported 1000 rows to path /home/suyogyat/research/dataset/10K/np20ng_10K_valid.csv.\n",
      "Exported 1000 rows to path /home/suyogyat/research/dataset/10K/np20ng_10K_test.csv.\n",
      "Exported 6400 rows to path /home/suyogyat/research/dataset/10K/np16ng_10K_train.csv.\n",
      "Exported 800 rows to path /home/suyogyat/research/dataset/10K/np16ng_10K_valid.csv.\n",
      "Exported 800 rows to path /home/suyogyat/research/dataset/10K/np16ng_10K_test.csv.\n"
     ]
    }
   ],
   "source": [
    "dataset = 'np20ng'\n",
    "size = '10K'\n",
    "\n",
    "# Splitting the dataframe into 80:10:10 ratio\n",
    "train, test = train_test_split(df20_10K, test_size=0.2, random_state=44, stratify=df20_10K.category)\n",
    "valid, test = train_test_split(test, test_size=0.5, random_state=44, stratify=test.category)\n",
    "\n",
    "# Exporting into respective directories\n",
    "export_df(train, f'/home/suyogyat/research/dataset/{size}/{dataset}_{size}_train.csv')\n",
    "export_df(valid, f'/home/suyogyat/research/dataset/{size}/{dataset}_{size}_valid.csv')\n",
    "export_df(test, f'/home/suyogyat/research/dataset/{size}/{dataset}_{size}_test.csv')\n",
    "\n",
    "\n",
    "dataset = 'np16ng'\n",
    "size = '10K'\n",
    "\n",
    "# Splitting the dataframe into 80:10:10 ratio\n",
    "train, test = train_test_split(df16_10K, test_size=0.2, random_state=44, stratify=df16_10K.category)\n",
    "valid, test = train_test_split(test, test_size=0.5, random_state=44, stratify=test.category)\n",
    "\n",
    "# Exporting into respective directories\n",
    "export_df(train, f'/home/suyogyat/research/dataset/{size}/{dataset}_{size}_train.csv')\n",
    "export_df(valid, f'/home/suyogyat/research/dataset/{size}/{dataset}_{size}_valid.csv')\n",
    "export_df(test, f'/home/suyogyat/research/dataset/{size}/{dataset}_{size}_test.csv')"
   ]
  },
  {
   "cell_type": "code",
   "execution_count": 17,
   "id": "4df6976e-abc1-4569-9d96-9624dbef421b",
   "metadata": {},
   "outputs": [
    {
     "data": {
      "text/plain": [
       "'/home/suyogyat/research'"
      ]
     },
     "execution_count": 17,
     "metadata": {},
     "output_type": "execute_result"
    }
   ],
   "source": [
    "os.getcwd()"
   ]
  },
  {
   "cell_type": "markdown",
   "id": "2e8b8511-0f29-4e99-bc23-f7a0ed583340",
   "metadata": {},
   "source": [
    "### Removing stop words\n",
    "\n",
    "**_nosw** is added to the files with stop words removed."
   ]
  },
  {
   "cell_type": "code",
   "execution_count": 18,
   "id": "4ddd30de-961a-4b9c-bcfa-9abe6e77d7aa",
   "metadata": {},
   "outputs": [],
   "source": [
    "from nepali_stemmer.stemmer import NepStemmer\n",
    "stemmer = NepStemmer()\n",
    "\n",
    "# Load Nepali stop words\n",
    "with open('utils/nepali_stopwords.txt') as f:\n",
    "    nepali_stopwords = [word.strip() for word in f.readlines()]\n",
    "\n",
    "def remove_stopwords(text):\n",
    "    \n",
    "    #stemming\n",
    "    text = stemmer.stem(text)\n",
    "    \n",
    "    #remove stopwords\n",
    "    text = ' '.join([word.strip() for word in text.split() if word not in nepali_stopwords])\n",
    "    \n",
    "    return text"
   ]
  },
  {
   "cell_type": "code",
   "execution_count": 19,
   "id": "98955bd2-c404-42f4-a465-6ca62ab2cbe6",
   "metadata": {},
   "outputs": [
    {
     "data": {
      "text/plain": [
       "['/home/suyogyat/research/dataset/10K/np20ng_10K_test.csv',\n",
       " '/home/suyogyat/research/dataset/10K/np20ng_10K_train.csv',\n",
       " '/home/suyogyat/research/dataset/10K/np16ng_10K.csv',\n",
       " '/home/suyogyat/research/dataset/10K/np20ng_10K.csv',\n",
       " '/home/suyogyat/research/dataset/10K/np16ng_10K_train.csv',\n",
       " '/home/suyogyat/research/dataset/10K/np16ng_10K_valid.csv',\n",
       " '/home/suyogyat/research/dataset/10K/np16ng_10K_test.csv',\n",
       " '/home/suyogyat/research/dataset/10K/np20ng_10K_valid.csv',\n",
       " '/home/suyogyat/research/dataset/5K/np20ng_5K_valid.csv',\n",
       " '/home/suyogyat/research/dataset/5K/np16ng_5K_test.csv',\n",
       " '/home/suyogyat/research/dataset/5K/np20ng_5K_test.csv',\n",
       " '/home/suyogyat/research/dataset/5K/np16ng_5K_valid.csv',\n",
       " '/home/suyogyat/research/dataset/5K/np20ng_5K.csv',\n",
       " '/home/suyogyat/research/dataset/5K/np16ng_5K_train.csv',\n",
       " '/home/suyogyat/research/dataset/5K/np16ng_5K.csv',\n",
       " '/home/suyogyat/research/dataset/5K/np20ng_5K_train.csv',\n",
       " '/home/suyogyat/research/dataset/1K/np20ng_1K_train.csv',\n",
       " '/home/suyogyat/research/dataset/1K/np20ng_1K_valid.csv',\n",
       " '/home/suyogyat/research/dataset/1K/np16ng_1K_test.csv',\n",
       " '/home/suyogyat/research/dataset/1K/np16ng_1K_valid.csv',\n",
       " '/home/suyogyat/research/dataset/1K/np20ng_1K.csv',\n",
       " '/home/suyogyat/research/dataset/1K/np20ng_1K_test.csv',\n",
       " '/home/suyogyat/research/dataset/1K/np16ng_1K.csv',\n",
       " '/home/suyogyat/research/dataset/1K/np16ng_1K_train.csv']"
      ]
     },
     "execution_count": 19,
     "metadata": {},
     "output_type": "execute_result"
    }
   ],
   "source": [
    "paths = glob(f'{dataset_path}/10K/*.csv')\n",
    "paths = paths + glob(f'{dataset_path}/5K/*.csv')\n",
    "paths = paths + glob(f'{dataset_path}/1K/*.csv')\n",
    "paths"
   ]
  },
  {
   "cell_type": "code",
   "execution_count": 20,
   "id": "09f4ee65-636d-4e96-88dd-a2a522a52d95",
   "metadata": {},
   "outputs": [
    {
     "name": "stdout",
     "output_type": "stream",
     "text": [
      "Exported 1000 rows to path /home/suyogyat/research/dataset/10K/np20ng_10K_test_nosw.csv.\n",
      "Exported 8000 rows to path /home/suyogyat/research/dataset/10K/np20ng_10K_train_nosw.csv.\n",
      "Exported 8000 rows to path /home/suyogyat/research/dataset/10K/np16ng_10K_nosw.csv.\n",
      "Exported 10000 rows to path /home/suyogyat/research/dataset/10K/np20ng_10K_nosw.csv.\n",
      "Exported 6400 rows to path /home/suyogyat/research/dataset/10K/np16ng_10K_train_nosw.csv.\n",
      "Exported 800 rows to path /home/suyogyat/research/dataset/10K/np16ng_10K_valid_nosw.csv.\n",
      "Exported 800 rows to path /home/suyogyat/research/dataset/10K/np16ng_10K_test_nosw.csv.\n",
      "Exported 1000 rows to path /home/suyogyat/research/dataset/10K/np20ng_10K_valid_nosw.csv.\n",
      "Exported 500 rows to path /home/suyogyat/research/dataset/5K/np20ng_5K_valid_nosw.csv.\n",
      "Exported 400 rows to path /home/suyogyat/research/dataset/5K/np16ng_5K_test_nosw.csv.\n",
      "Exported 500 rows to path /home/suyogyat/research/dataset/5K/np20ng_5K_test_nosw.csv.\n",
      "Exported 400 rows to path /home/suyogyat/research/dataset/5K/np16ng_5K_valid_nosw.csv.\n",
      "Exported 5000 rows to path /home/suyogyat/research/dataset/5K/np20ng_5K_nosw.csv.\n",
      "Exported 3200 rows to path /home/suyogyat/research/dataset/5K/np16ng_5K_train_nosw.csv.\n",
      "Exported 4000 rows to path /home/suyogyat/research/dataset/5K/np16ng_5K_nosw.csv.\n",
      "Exported 4000 rows to path /home/suyogyat/research/dataset/5K/np20ng_5K_train_nosw.csv.\n",
      "Exported 800 rows to path /home/suyogyat/research/dataset/1K/np20ng_1K_train_nosw.csv.\n",
      "Exported 100 rows to path /home/suyogyat/research/dataset/1K/np20ng_1K_valid_nosw.csv.\n",
      "Exported 80 rows to path /home/suyogyat/research/dataset/1K/np16ng_1K_test_nosw.csv.\n",
      "Exported 80 rows to path /home/suyogyat/research/dataset/1K/np16ng_1K_valid_nosw.csv.\n",
      "Exported 1000 rows to path /home/suyogyat/research/dataset/1K/np20ng_1K_nosw.csv.\n",
      "Exported 100 rows to path /home/suyogyat/research/dataset/1K/np20ng_1K_test_nosw.csv.\n",
      "Exported 800 rows to path /home/suyogyat/research/dataset/1K/np16ng_1K_nosw.csv.\n",
      "Exported 640 rows to path /home/suyogyat/research/dataset/1K/np16ng_1K_train_nosw.csv.\n"
     ]
    }
   ],
   "source": [
    "for path in paths:\n",
    "    df = pd.read_csv(path)\n",
    "    df.content = df.content.apply(remove_stopwords)\n",
    "    df.content_word_count = df.content.str.split().str.len()\n",
    "    \n",
    "    export_df(df, path.replace('.csv', '_nosw.csv'))"
   ]
  }
 ],
 "metadata": {
  "kernelspec": {
   "display_name": "nlp",
   "language": "python",
   "name": "nlp"
  },
  "language_info": {
   "codemirror_mode": {
    "name": "ipython",
    "version": 3
   },
   "file_extension": ".py",
   "mimetype": "text/x-python",
   "name": "python",
   "nbconvert_exporter": "python",
   "pygments_lexer": "ipython3",
   "version": "3.8.10"
  }
 },
 "nbformat": 4,
 "nbformat_minor": 5
}
