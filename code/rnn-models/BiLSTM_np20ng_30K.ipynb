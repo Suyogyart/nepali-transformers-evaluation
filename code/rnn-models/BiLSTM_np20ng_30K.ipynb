{
  "cells": [
    {
      "cell_type": "markdown",
      "metadata": {},
      "source": [
        "# BiLSTM_np20ng_30K\n",
        "\n",
        "Here, we train a Bidirectional Long Short Term Memory (BiLSTM) network on Nepali newsgroup dataset with 20 classes and 30K total samples.\n",
        "\n",
        "This notebook was run on Google Colab Environment with Tesla T4 GPU.\n",
        "\n",
        "The experiment was tracked using Weights and Biases (Wandb)"
      ]
    },
    {
      "cell_type": "code",
      "execution_count": 1,
      "metadata": {
        "colab": {
          "base_uri": "https://localhost:8080/"
        },
        "id": "mGw8Dni9SsDC",
        "outputId": "06d8572f-8d16-48b0-9c04-aa0ea96d3570"
      },
      "outputs": [
        {
          "name": "stdout",
          "output_type": "stream",
          "text": [
            "Sat Oct 22 11:57:02 2022       \n",
            "+-----------------------------------------------------------------------------+\n",
            "| NVIDIA-SMI 460.32.03    Driver Version: 460.32.03    CUDA Version: 11.2     |\n",
            "|-------------------------------+----------------------+----------------------+\n",
            "| GPU  Name        Persistence-M| Bus-Id        Disp.A | Volatile Uncorr. ECC |\n",
            "| Fan  Temp  Perf  Pwr:Usage/Cap|         Memory-Usage | GPU-Util  Compute M. |\n",
            "|                               |                      |               MIG M. |\n",
            "|===============================+======================+======================|\n",
            "|   0  Tesla T4            Off  | 00000000:00:04.0 Off |                    0 |\n",
            "| N/A   42C    P8    10W /  70W |      0MiB / 15109MiB |      0%      Default |\n",
            "|                               |                      |                  N/A |\n",
            "+-------------------------------+----------------------+----------------------+\n",
            "                                                                               \n",
            "+-----------------------------------------------------------------------------+\n",
            "| Processes:                                                                  |\n",
            "|  GPU   GI   CI        PID   Type   Process name                  GPU Memory |\n",
            "|        ID   ID                                                   Usage      |\n",
            "|=============================================================================|\n",
            "|  No running processes found                                                 |\n",
            "+-----------------------------------------------------------------------------+\n"
          ]
        }
      ],
      "source": [
        "!nvidia-smi"
      ]
    },
    {
      "cell_type": "code",
      "execution_count": 2,
      "metadata": {
        "colab": {
          "base_uri": "https://localhost:8080/"
        },
        "id": "fBW7nv23SpRA",
        "outputId": "da9b1ca9-78e0-41ab-c984-d29149d47f9f"
      },
      "outputs": [
        {
          "name": "stdout",
          "output_type": "stream",
          "text": [
            "Mounted at /content/drive\n"
          ]
        }
      ],
      "source": [
        "from google.colab import drive\n",
        "drive.mount('/content/drive')"
      ]
    },
    {
      "cell_type": "code",
      "execution_count": 3,
      "metadata": {
        "id": "e1jNtc9FSy49"
      },
      "outputs": [],
      "source": [
        "import os\n",
        "os.chdir('/content/drive/MyDrive/ait_research_experiments')"
      ]
    },
    {
      "cell_type": "markdown",
      "metadata": {
        "id": "f-cOwRUgSugw"
      },
      "source": [
        "### Load Train Valid and Test Data\n",
        "**Note:** The dataset is already preprocessed and stopwords have been removed.\n",
        "\n",
        "* np16ng with 30K datasize"
      ]
    },
    {
      "cell_type": "code",
      "execution_count": 4,
      "metadata": {
        "colab": {
          "base_uri": "https://localhost:8080/"
        },
        "id": "cq-fSNxzWLxO",
        "outputId": "9b334dfb-a119-4c3d-d9b5-ef1fa1392935"
      },
      "outputs": [
        {
          "name": "stdout",
          "output_type": "stream",
          "text": [
            "Looking in indexes: https://pypi.org/simple, https://us-python.pkg.dev/colab-wheels/public/simple/\n",
            "Collecting wandb\n",
            "  Downloading wandb-0.13.4-py2.py3-none-any.whl (1.9 MB)\n",
            "\u001b[K     |████████████████████████████████| 1.9 MB 5.0 MB/s \n",
            "\u001b[?25hRequirement already satisfied: psutil>=5.0.0 in /usr/local/lib/python3.7/dist-packages (from wandb) (5.4.8)\n",
            "Collecting pathtools\n",
            "  Downloading pathtools-0.1.2.tar.gz (11 kB)\n",
            "Requirement already satisfied: six>=1.13.0 in /usr/local/lib/python3.7/dist-packages (from wandb) (1.15.0)\n",
            "Collecting sentry-sdk>=1.0.0\n",
            "  Downloading sentry_sdk-1.10.1-py2.py3-none-any.whl (166 kB)\n",
            "\u001b[K     |████████████████████████████████| 166 kB 89.5 MB/s \n",
            "\u001b[?25hRequirement already satisfied: setuptools in /usr/local/lib/python3.7/dist-packages (from wandb) (57.4.0)\n",
            "Requirement already satisfied: requests<3,>=2.0.0 in /usr/local/lib/python3.7/dist-packages (from wandb) (2.23.0)\n",
            "Collecting docker-pycreds>=0.4.0\n",
            "  Downloading docker_pycreds-0.4.0-py2.py3-none-any.whl (9.0 kB)\n",
            "Requirement already satisfied: protobuf!=4.0.*,!=4.21.0,<5,>=3.12.0 in /usr/local/lib/python3.7/dist-packages (from wandb) (3.17.3)\n",
            "Requirement already satisfied: PyYAML in /usr/local/lib/python3.7/dist-packages (from wandb) (6.0)\n",
            "Collecting setproctitle\n",
            "  Downloading setproctitle-1.3.2-cp37-cp37m-manylinux_2_5_x86_64.manylinux1_x86_64.manylinux_2_17_x86_64.manylinux2014_x86_64.whl (30 kB)\n",
            "Collecting shortuuid>=0.5.0\n",
            "  Downloading shortuuid-1.0.9-py3-none-any.whl (9.4 kB)\n",
            "Requirement already satisfied: Click!=8.0.0,>=7.0 in /usr/local/lib/python3.7/dist-packages (from wandb) (7.1.2)\n",
            "Requirement already satisfied: promise<3,>=2.0 in /usr/local/lib/python3.7/dist-packages (from wandb) (2.3)\n",
            "Collecting GitPython>=1.0.0\n",
            "  Downloading GitPython-3.1.29-py3-none-any.whl (182 kB)\n",
            "\u001b[K     |████████████████████████████████| 182 kB 87.4 MB/s \n",
            "\u001b[?25hRequirement already satisfied: typing-extensions>=3.7.4.3 in /usr/local/lib/python3.7/dist-packages (from GitPython>=1.0.0->wandb) (4.1.1)\n",
            "Collecting gitdb<5,>=4.0.1\n",
            "  Downloading gitdb-4.0.9-py3-none-any.whl (63 kB)\n",
            "\u001b[K     |████████████████████████████████| 63 kB 2.0 MB/s \n",
            "\u001b[?25hCollecting smmap<6,>=3.0.1\n",
            "  Downloading smmap-5.0.0-py3-none-any.whl (24 kB)\n",
            "Requirement already satisfied: urllib3!=1.25.0,!=1.25.1,<1.26,>=1.21.1 in /usr/local/lib/python3.7/dist-packages (from requests<3,>=2.0.0->wandb) (1.24.3)\n",
            "Requirement already satisfied: idna<3,>=2.5 in /usr/local/lib/python3.7/dist-packages (from requests<3,>=2.0.0->wandb) (2.10)\n",
            "Requirement already satisfied: certifi>=2017.4.17 in /usr/local/lib/python3.7/dist-packages (from requests<3,>=2.0.0->wandb) (2022.9.24)\n",
            "Requirement already satisfied: chardet<4,>=3.0.2 in /usr/local/lib/python3.7/dist-packages (from requests<3,>=2.0.0->wandb) (3.0.4)\n",
            "Collecting sentry-sdk>=1.0.0\n",
            "  Downloading sentry_sdk-1.10.0-py2.py3-none-any.whl (166 kB)\n",
            "\u001b[K     |████████████████████████████████| 166 kB 94.1 MB/s \n",
            "\u001b[?25h  Downloading sentry_sdk-1.9.10-py2.py3-none-any.whl (162 kB)\n",
            "\u001b[K     |████████████████████████████████| 162 kB 98.2 MB/s \n",
            "\u001b[?25h  Downloading sentry_sdk-1.9.9-py2.py3-none-any.whl (162 kB)\n",
            "\u001b[K     |████████████████████████████████| 162 kB 75.0 MB/s \n",
            "\u001b[?25h  Downloading sentry_sdk-1.9.8-py2.py3-none-any.whl (158 kB)\n",
            "\u001b[K     |████████████████████████████████| 158 kB 93.8 MB/s \n",
            "\u001b[?25h  Downloading sentry_sdk-1.9.7-py2.py3-none-any.whl (157 kB)\n",
            "\u001b[K     |████████████████████████████████| 157 kB 79.6 MB/s \n",
            "\u001b[?25h  Downloading sentry_sdk-1.9.6-py2.py3-none-any.whl (157 kB)\n",
            "\u001b[K     |████████████████████████████████| 157 kB 102.1 MB/s \n",
            "\u001b[?25h  Downloading sentry_sdk-1.9.5-py2.py3-none-any.whl (157 kB)\n",
            "\u001b[K     |████████████████████████████████| 157 kB 81.0 MB/s \n",
            "\u001b[?25h  Downloading sentry_sdk-1.9.4-py2.py3-none-any.whl (157 kB)\n",
            "\u001b[K     |████████████████████████████████| 157 kB 102.4 MB/s \n",
            "\u001b[?25h  Downloading sentry_sdk-1.9.3-py2.py3-none-any.whl (157 kB)\n",
            "\u001b[K     |████████████████████████████████| 157 kB 79.2 MB/s \n",
            "\u001b[?25h  Downloading sentry_sdk-1.9.2-py2.py3-none-any.whl (157 kB)\n",
            "\u001b[K     |████████████████████████████████| 157 kB 88.9 MB/s \n",
            "\u001b[?25h  Downloading sentry_sdk-1.9.1-py2.py3-none-any.whl (157 kB)\n",
            "\u001b[K     |████████████████████████████████| 157 kB 103.9 MB/s \n",
            "\u001b[?25h  Downloading sentry_sdk-1.9.0-py2.py3-none-any.whl (156 kB)\n",
            "\u001b[K     |████████████████████████████████| 156 kB 95.9 MB/s \n",
            "\u001b[?25hBuilding wheels for collected packages: pathtools\n",
            "  Building wheel for pathtools (setup.py) ... \u001b[?25l\u001b[?25hdone\n",
            "  Created wheel for pathtools: filename=pathtools-0.1.2-py3-none-any.whl size=8806 sha256=049c4c6d3ba1c591b585c522e28419bd71dd67edc6f9e8bcbd01880f032c0a67\n",
            "  Stored in directory: /root/.cache/pip/wheels/3e/31/09/fa59cef12cdcfecc627b3d24273699f390e71828921b2cbba2\n",
            "Successfully built pathtools\n",
            "Installing collected packages: smmap, gitdb, shortuuid, setproctitle, sentry-sdk, pathtools, GitPython, docker-pycreds, wandb\n",
            "Successfully installed GitPython-3.1.29 docker-pycreds-0.4.0 gitdb-4.0.9 pathtools-0.1.2 sentry-sdk-1.9.0 setproctitle-1.3.2 shortuuid-1.0.9 smmap-5.0.0 wandb-0.13.4\n"
          ]
        }
      ],
      "source": [
        "!pip install wandb"
      ]
    },
    {
      "cell_type": "code",
      "execution_count": 5,
      "metadata": {
        "id": "yhaCvFBlTfau"
      },
      "outputs": [],
      "source": [
        "import time\n",
        "import pandas as pd\n",
        "import numpy as np\n",
        "from tensorflow import keras\n",
        "from tqdm import tqdm\n",
        "import wandb\n",
        "from wandb.keras import WandbCallback"
      ]
    },
    {
      "cell_type": "code",
      "execution_count": 6,
      "metadata": {
        "id": "X27GByLDSjV2"
      },
      "outputs": [],
      "source": [
        "wandb_config = {}"
      ]
    },
    {
      "cell_type": "code",
      "execution_count": 7,
      "metadata": {
        "id": "D-QPmwmojtwF"
      },
      "outputs": [],
      "source": [
        "# import wandb\n",
        "\n",
        "# # Login if not logged in\n",
        "# !wandb login 93f20611e40141f3db8be493fb3ee822860f2493\n",
        "\n",
        "# # Initialize API\n",
        "# api = wandb.Api()\n",
        "\n",
        "# # Get the Run name (entity/project/id)\n",
        "# run = api.run('suyogyart/ait_research_experiments/23fv9ful')\n",
        "\n",
        "# # Add additional keys and values\n",
        "# run.config[\"test_precision_weighted\"] = 0.79\n",
        "\n",
        "# # Persist / Update the Run\n",
        "# run.update()"
      ]
    },
    {
      "cell_type": "code",
      "execution_count": 8,
      "metadata": {
        "id": "lVOEeDl37pYX"
      },
      "outputs": [],
      "source": [
        "size = '30K'\n",
        "dataset = 'np20ng'\n",
        "t_id = 'T5'\n",
        "dataset_path =  os.path.join(os.getcwd(), 'dataset', dataset)\n",
        "fasttext_path = os.path.join(os.getcwd(), 'fasttext/cc.ne.300.bin')\n",
        "model_arch = 'BiLSTM'\n",
        "model_path = os.path.join(os.getcwd(), 'models')\n",
        "model_checkpoint_path = os.path.join(os.getcwd(), 'models/rnn_ckpt', 'BiLSTM_np20ng_30K_T5_{epoch:02d}-{val_accuracy:.4f}.hdf5')"
      ]
    },
    {
      "cell_type": "code",
      "execution_count": 9,
      "metadata": {
        "id": "ODz1KPbD73J2"
      },
      "outputs": [],
      "source": [
        "train_path = os.path.join(dataset_path, f'{dataset}_train_nosw.csv')\n",
        "valid_path = os.path.join(dataset_path, f'{dataset}_valid_nosw.csv')\n",
        "test_path = os.path.join(dataset_path, f'{dataset}_test_nosw.csv')\n",
        "wandb_config['remove_stopwords'] = True\n",
        "\n",
        "# train_path = os.path.join(dataset_path, f'{dataset}_{size}_train.csv')\n",
        "# valid_path = os.path.join(dataset_path, f'{dataset}_{size}_valid.csv')\n",
        "# test_path = os.path.join(dataset_path, f'{dataset}_{size}_test.csv')\n",
        "# wandb_config['remove_stopwords'] = False"
      ]
    },
    {
      "cell_type": "code",
      "execution_count": 10,
      "metadata": {
        "colab": {
          "base_uri": "https://localhost:8080/"
        },
        "id": "diYjPFD8TFje",
        "outputId": "bcdd4765-4f1d-4dce-9c3f-4501fa3d95ef"
      },
      "outputs": [
        {
          "name": "stdout",
          "output_type": "stream",
          "text": [
            "(24000, 3) (3000, 3) (3000, 3)\n"
          ]
        }
      ],
      "source": [
        "train_df = pd.read_csv(train_path)[['content', 'category', 'labels']]\n",
        "valid_df = pd.read_csv(valid_path)[['content', 'category', 'labels']]\n",
        "test_df = pd.read_csv(test_path)[['content', 'category', 'labels']]\n",
        "\n",
        "print(train_df.shape, valid_df.shape, test_df.shape)"
      ]
    },
    {
      "cell_type": "code",
      "execution_count": 11,
      "metadata": {
        "id": "tMCWAflySjV7"
      },
      "outputs": [],
      "source": [
        "wandb_config['model_arch'] = model_arch\n",
        "wandb_config['size'] = '30K'\n",
        "wandb_config['dataset_id'] = dataset\n",
        "wandb_config['data_size'] = 30000\n",
        "wandb_config['num_classes'] = train_df.category.nunique()"
      ]
    },
    {
      "cell_type": "code",
      "execution_count": 12,
      "metadata": {
        "colab": {
          "base_uri": "https://localhost:8080/"
        },
        "id": "-GExhFVw_qgR",
        "outputId": "8c66b269-648b-4d71-a810-d237b7ca7870"
      },
      "outputs": [
        {
          "data": {
            "text/plain": [
              "{'remove_stopwords': True,\n",
              " 'model_arch': 'BiLSTM',\n",
              " 'size': '30K',\n",
              " 'dataset_id': 'np20ng',\n",
              " 'data_size': 30000,\n",
              " 'num_classes': 20}"
            ]
          },
          "execution_count": 12,
          "metadata": {},
          "output_type": "execute_result"
        }
      ],
      "source": [
        "wandb_config"
      ]
    },
    {
      "cell_type": "markdown",
      "metadata": {
        "id": "7w1laCO7ckS_"
      },
      "source": [
        "### Bi-LSTM"
      ]
    },
    {
      "cell_type": "code",
      "execution_count": 13,
      "metadata": {
        "id": "s726ylIncjdY"
      },
      "outputs": [],
      "source": [
        "from keras import layers\n",
        "from keras import losses\n",
        "from keras import preprocessing\n",
        "from keras import utils\n",
        "from keras.layers.preprocessing.text_vectorization import TextVectorization\n",
        "from keras.callbacks import EarlyStopping, ModelCheckpoint\n",
        "\n",
        "from keras.preprocessing.text import Tokenizer\n",
        "from keras_preprocessing.sequence import pad_sequences\n",
        "from keras.layers import Dense, Embedding, LSTM, Bidirectional, Dropout\n",
        "from keras.optimizers import Adam"
      ]
    },
    {
      "cell_type": "code",
      "execution_count": 14,
      "metadata": {
        "colab": {
          "base_uri": "https://localhost:8080/"
        },
        "id": "9_-vBgRpfMHF",
        "outputId": "4bf9f994-38eb-4037-f7aa-c0fe2800e5d6"
      },
      "outputs": [
        {
          "name": "stdout",
          "output_type": "stream",
          "text": [
            "Vocab Size:  213462\n"
          ]
        }
      ],
      "source": [
        "MAX_FEATURES = 300000\n",
        "MAX_SEQ_LEN = 512\n",
        "\n",
        "tokenizer = Tokenizer(num_words = MAX_FEATURES, lower=False)\n",
        "tokenizer.fit_on_texts(train_df['content'].values)\n",
        "X_train = tokenizer.texts_to_sequences(train_df['content'].values)\n",
        "X_train = pad_sequences(X_train, padding = 'post', maxlen=MAX_SEQ_LEN)\n",
        "y_train = pd.get_dummies(train_df['category']).values\n",
        "\n",
        "X_valid = tokenizer.texts_to_sequences(valid_df['content'].values)\n",
        "X_valid = pad_sequences(X_valid, padding = 'post', maxlen=MAX_SEQ_LEN)\n",
        "y_valid = pd.get_dummies(valid_df['category']).values\n",
        "\n",
        "vocab_size = len(tokenizer.word_index)+1\n",
        "print('Vocab Size: ', vocab_size)"
      ]
    },
    {
      "cell_type": "code",
      "execution_count": 15,
      "metadata": {
        "id": "8PQ9CfaSSjV_"
      },
      "outputs": [],
      "source": [
        "wandb_config['max_features'] = MAX_FEATURES\n",
        "wandb_config['max_seq_len'] = MAX_SEQ_LEN\n",
        "wandb_config['vocab_size'] = vocab_size"
      ]
    },
    {
      "cell_type": "code",
      "execution_count": 16,
      "metadata": {
        "id": "JZTH9kFLmdxh"
      },
      "outputs": [],
      "source": [
        "import matplotlib.pyplot as plt\n",
        "\n",
        "def plot_history(history):\n",
        "\n",
        "    # summarize history for accuracy\n",
        "    plt.plot(history.history['accuracy'])\n",
        "    plt.plot(history.history['val_accuracy'])\n",
        "    plt.title('model accuracy')\n",
        "    plt.ylabel('accuracy')\n",
        "    plt.xlabel('epoch')\n",
        "    plt.legend(['train', 'valid'], loc='upper left')\n",
        "    plt.grid()\n",
        "    plt.show()\n",
        "\n",
        "    # summarize history for loss\n",
        "    plt.plot(history.history['loss'])\n",
        "    plt.plot(history.history['val_loss'])\n",
        "    plt.title('model loss')\n",
        "    plt.ylabel('loss')\n",
        "    plt.xlabel('epoch')\n",
        "    plt.legend(['train', 'valid'], loc='upper left')\n",
        "    plt.grid()\n",
        "    plt.show()"
      ]
    },
    {
      "cell_type": "markdown",
      "metadata": {
        "id": "RrBn-0p_SUjU"
      },
      "source": [
        "### Load FastText model for Nepali and get FastText embeddings\n"
      ]
    },
    {
      "cell_type": "code",
      "execution_count": 17,
      "metadata": {
        "colab": {
          "base_uri": "https://localhost:8080/"
        },
        "id": "rWKPyt3XU1wZ",
        "outputId": "1936dd7d-a09f-4d49-c2f6-a1c165d20595"
      },
      "outputs": [
        {
          "name": "stdout",
          "output_type": "stream",
          "text": [
            "Looking in indexes: https://pypi.org/simple, https://us-python.pkg.dev/colab-wheels/public/simple/\n",
            "Collecting fasttext\n",
            "  Downloading fasttext-0.9.2.tar.gz (68 kB)\n",
            "\u001b[K     |████████████████████████████████| 68 kB 3.6 MB/s \n",
            "\u001b[?25hCollecting pybind11>=2.2\n",
            "  Using cached pybind11-2.10.0-py3-none-any.whl (213 kB)\n",
            "Requirement already satisfied: setuptools>=0.7.0 in /usr/local/lib/python3.7/dist-packages (from fasttext) (57.4.0)\n",
            "Requirement already satisfied: numpy in /usr/local/lib/python3.7/dist-packages (from fasttext) (1.21.6)\n",
            "Building wheels for collected packages: fasttext\n",
            "  Building wheel for fasttext (setup.py) ... \u001b[?25l\u001b[?25hdone\n",
            "  Created wheel for fasttext: filename=fasttext-0.9.2-cp37-cp37m-linux_x86_64.whl size=3161990 sha256=e274c96f517f2461d61adead17258b5fcdd750d5352478d978aeff32d88971ce\n",
            "  Stored in directory: /root/.cache/pip/wheels/4e/ca/bf/b020d2be95f7641801a6597a29c8f4f19e38f9c02a345bab9b\n",
            "Successfully built fasttext\n",
            "Installing collected packages: pybind11, fasttext\n",
            "Successfully installed fasttext-0.9.2 pybind11-2.10.0\n"
          ]
        }
      ],
      "source": [
        "!pip install fasttext"
      ]
    },
    {
      "cell_type": "code",
      "execution_count": 18,
      "metadata": {
        "colab": {
          "base_uri": "https://localhost:8080/"
        },
        "id": "7NV0SuLPM84_",
        "outputId": "9144e521-16f1-4ec6-b63a-a86699ae0dc7"
      },
      "outputs": [
        {
          "name": "stderr",
          "output_type": "stream",
          "text": [
            "Warning : `load_model` does not return WordVectorModel or SupervisedModel any more, but a `FastText` object which is very similar.\n"
          ]
        }
      ],
      "source": [
        "import fasttext\n",
        "\n",
        "ft = fasttext.load_model(fasttext_path)\n",
        "wandb_config['embeddings'] = 'FastText'"
      ]
    },
    {
      "cell_type": "code",
      "execution_count": 19,
      "metadata": {
        "colab": {
          "base_uri": "https://localhost:8080/"
        },
        "id": "PhtbI8HarqlW",
        "outputId": "6f239774-e61b-487b-b081-6d3e16542bbd"
      },
      "outputs": [
        {
          "name": "stdout",
          "output_type": "stream",
          "text": [
            "Getting all words from the embeddings...\n",
            "Total words:  584436\n",
            "Creating embeddings vector...\n"
          ]
        },
        {
          "name": "stderr",
          "output_type": "stream",
          "text": [
            "100%|██████████| 584436/584436 [00:08<00:00, 70052.91it/s]"
          ]
        },
        {
          "name": "stdout",
          "output_type": "stream",
          "text": [
            "Total Vectors:  584436\n"
          ]
        },
        {
          "name": "stderr",
          "output_type": "stream",
          "text": [
            "\n"
          ]
        }
      ],
      "source": [
        "print('Getting all words from the embeddings...')\n",
        "all_words = ft.get_words()\n",
        "print('Total words: ', len(all_words))\n",
        "\n",
        "print('Creating embeddings vector...')\n",
        "embeddings_vector = {}\n",
        "for word in tqdm(all_words):\n",
        "    embeddings_vector[word] = ft.get_word_vector(word)\n",
        "\n",
        "print('Total Vectors: ', len(embeddings_vector))"
      ]
    },
    {
      "cell_type": "code",
      "execution_count": 20,
      "metadata": {
        "colab": {
          "base_uri": "https://localhost:8080/"
        },
        "id": "Ka4mCUKHnZ0z",
        "outputId": "d8451d93-4e81-424f-9e14-1812c6b9fe8f"
      },
      "outputs": [
        {
          "name": "stdout",
          "output_type": "stream",
          "text": [
            "Creating embedding matrix...\n"
          ]
        },
        {
          "name": "stderr",
          "output_type": "stream",
          "text": [
            "100%|██████████| 213461/213461 [00:00<00:00, 625528.59it/s]"
          ]
        },
        {
          "name": "stdout",
          "output_type": "stream",
          "text": [
            "Embedding Matrix shape:  (213462, 300)\n"
          ]
        },
        {
          "name": "stderr",
          "output_type": "stream",
          "text": [
            "\n"
          ]
        }
      ],
      "source": [
        "print('Creating embedding matrix...')\n",
        "embedding_matrix = np.zeros((vocab_size, 300))\n",
        "for word, i in tqdm(tokenizer.word_index.items()):\n",
        "    embedding_value = embeddings_vector.get(word)\n",
        "    if embedding_value is not None:\n",
        "        embedding_matrix[i] = embedding_value\n",
        "\n",
        "print('Embedding Matrix shape: ', embedding_matrix.shape)"
      ]
    },
    {
      "cell_type": "markdown",
      "metadata": {
        "id": "uKGfjIdXr2tO"
      },
      "source": [
        "### Model Setup"
      ]
    },
    {
      "cell_type": "code",
      "execution_count": 21,
      "metadata": {
        "id": "V51oLdH4oEVk"
      },
      "outputs": [],
      "source": [
        "EMBED_DIM = 300\n",
        "ES_PATIENCE = 5\n",
        "ES_CALLBACK = EarlyStopping(patience=ES_PATIENCE, verbose=1)\n",
        "MODEL_CHECKPOINT_CALLBACK = ModelCheckpoint(\n",
        "    filepath=model_checkpoint_path,\n",
        "    monitor='val_loss',\n",
        "    mode='min',\n",
        "    save_best_only=True, \n",
        "    verbose=1\n",
        ")\n",
        "\n",
        "EPOCH = 50\n",
        "LEARNING_RATE = 0.001\n",
        "BATCH_SIZE = 64\n",
        "\n",
        "wandb_config['embedding_dim'] = EMBED_DIM\n",
        "wandb_config['total_epochs'] = EPOCH\n",
        "wandb_config['learning_rate'] = LEARNING_RATE\n",
        "wandb_config['train_batch_size'] = BATCH_SIZE"
      ]
    },
    {
      "cell_type": "code",
      "execution_count": 25,
      "metadata": {
        "id": "mLv2GzfpStAG"
      },
      "outputs": [],
      "source": [
        "# def create_model():\n",
        "#     model = keras.Sequential()\n",
        "#     model.add(Embedding(vocab_size, EMBED_DIM, input_length=X_train.shape[1], weights=[embedding_matrix], trainable = False))\n",
        "#     model.add(Bidirectional(LSTM(128, dropout=0.2, return_sequences=True)))\n",
        "#     model.add(Dropout(0.5))\n",
        "#     model.add(Bidirectional(LSTM(128, dropout=0.2)))\n",
        "#     model.add(Dense(100, activation = 'relu'))\n",
        "#     model.add(Dropout(0.5))\n",
        "#     model.add(Dense(50, activation = 'relu'))\n",
        "#     model.add(Dense(16, activation = 'softmax'))\n",
        "\n",
        "#     model.summary()\n",
        "\n",
        "#     model.compile(loss = 'categorical_crossentropy', optimizer=Adam(learning_rate=LEARNING_RATE), metrics = ['accuracy'])\n",
        "\n",
        "#     return model\n",
        "\n",
        "def create_model():\n",
        "    model = keras.Sequential()\n",
        "    model.add(Embedding(vocab_size, EMBED_DIM, input_length=X_train.shape[1], weights=[embedding_matrix], trainable = False))\n",
        "    model.add(Bidirectional(LSTM(256, dropout=0.2, return_sequences=True)))\n",
        "    model.add(Dropout(0.5))\n",
        "    model.add(Bidirectional(LSTM(256, dropout=0.2)))\n",
        "    model.add(Dense(128, activation = 'relu'))\n",
        "    model.add(Dropout(0.5))\n",
        "    model.add(Dense(64, activation = 'relu'))\n",
        "    model.add(Dense(train_df.category.nunique(), activation = 'softmax'))\n",
        "\n",
        "    model.summary()\n",
        "\n",
        "    model.compile(loss = 'categorical_crossentropy', optimizer=Adam(learning_rate=LEARNING_RATE), metrics = ['accuracy'])\n",
        "\n",
        "    return model"
      ]
    },
    {
      "cell_type": "code",
      "execution_count": 26,
      "metadata": {
        "colab": {
          "base_uri": "https://localhost:8080/"
        },
        "id": "G8lKF-5IZ1PU",
        "outputId": "4228d12f-d6a9-46bb-f24e-d4eda53e60f3"
      },
      "outputs": [
        {
          "name": "stdout",
          "output_type": "stream",
          "text": [
            "Model: \"sequential_1\"\n",
            "_________________________________________________________________\n",
            " Layer (type)                Output Shape              Param #   \n",
            "=================================================================\n",
            " embedding_1 (Embedding)     (None, 512, 300)          64038600  \n",
            "                                                                 \n",
            " bidirectional_2 (Bidirectio  (None, 512, 512)         1140736   \n",
            " nal)                                                            \n",
            "                                                                 \n",
            " dropout_2 (Dropout)         (None, 512, 512)          0         \n",
            "                                                                 \n",
            " bidirectional_3 (Bidirectio  (None, 512)              1574912   \n",
            " nal)                                                            \n",
            "                                                                 \n",
            " dense_3 (Dense)             (None, 128)               65664     \n",
            "                                                                 \n",
            " dropout_3 (Dropout)         (None, 128)               0         \n",
            "                                                                 \n",
            " dense_4 (Dense)             (None, 64)                8256      \n",
            "                                                                 \n",
            " dense_5 (Dense)             (None, 20)                1300      \n",
            "                                                                 \n",
            "=================================================================\n",
            "Total params: 66,829,468\n",
            "Trainable params: 2,790,868\n",
            "Non-trainable params: 64,038,600\n",
            "_________________________________________________________________\n"
          ]
        }
      ],
      "source": [
        "model = create_model()"
      ]
    },
    {
      "cell_type": "markdown",
      "metadata": {
        "id": "G0DTs-5lSjWC"
      },
      "source": [
        "### WandB initialization and config update"
      ]
    },
    {
      "cell_type": "code",
      "execution_count": 27,
      "metadata": {
        "id": "AvIpppx_SjWC"
      },
      "outputs": [],
      "source": [
        "PROJECT_ID = 'ait_research_experiments'\n",
        "TRAINING_ID = f'{model_arch}_{dataset}_{size}_{t_id}'\n",
        "TAGS = [model_arch, dataset, str(wandb_config['data_size'])]"
      ]
    },
    {
      "cell_type": "code",
      "execution_count": 28,
      "metadata": {
        "colab": {
          "base_uri": "https://localhost:8080/"
        },
        "id": "p7aNqZbsW2BP",
        "outputId": "055461a7-fcb4-495c-9b95-77405f85ce78"
      },
      "outputs": [
        {
          "name": "stdout",
          "output_type": "stream",
          "text": [
            "\u001b[34m\u001b[1mwandb\u001b[0m: Appending key for api.wandb.ai to your netrc file: /root/.netrc\n"
          ]
        }
      ],
      "source": [
        "# Login to WandB\n",
        "!wandb login 93f20611e40141f3db8be493fb3ee822860f2493"
      ]
    },
    {
      "cell_type": "code",
      "execution_count": 29,
      "metadata": {
        "colab": {
          "base_uri": "https://localhost:8080/",
          "height": 125
        },
        "id": "WYWxMmNnSjWD",
        "outputId": "de5d8d68-8a35-4444-e553-1e2012d5a59c"
      },
      "outputs": [
        {
          "name": "stderr",
          "output_type": "stream",
          "text": [
            "ERROR:wandb.jupyter:Failed to detect the name of this notebook, you can set it manually with the WANDB_NOTEBOOK_NAME environment variable to enable code saving.\n",
            "\u001b[34m\u001b[1mwandb\u001b[0m: Currently logged in as: \u001b[33msuyogyart\u001b[0m. Use \u001b[1m`wandb login --relogin`\u001b[0m to force relogin\n"
          ]
        },
        {
          "data": {
            "text/html": [
              "Tracking run with wandb version 0.13.4"
            ],
            "text/plain": [
              "<IPython.core.display.HTML object>"
            ]
          },
          "metadata": {},
          "output_type": "display_data"
        },
        {
          "data": {
            "text/html": [
              "Run data is saved locally in <code>/content/drive/MyDrive/ait_research_experiments/wandb/run-20221022_120025-2yhlmzp4</code>"
            ],
            "text/plain": [
              "<IPython.core.display.HTML object>"
            ]
          },
          "metadata": {},
          "output_type": "display_data"
        },
        {
          "data": {
            "text/html": [
              "Syncing run <strong><a href=\"https://wandb.ai/suyogyart/ait_research_experiments/runs/2yhlmzp4\" target=\"_blank\">BiLSTM_np20ng_30K_T5</a></strong> to <a href=\"https://wandb.ai/suyogyart/ait_research_experiments\" target=\"_blank\">Weights & Biases</a> (<a href=\"https://wandb.me/run\" target=\"_blank\">docs</a>)<br/>"
            ],
            "text/plain": [
              "<IPython.core.display.HTML object>"
            ]
          },
          "metadata": {},
          "output_type": "display_data"
        },
        {
          "data": {
            "text/html": [
              "<button onClick=\"this.nextSibling.style.display='block';this.style.display='none';\">Display W&B run</button><iframe src=\"https://wandb.ai/suyogyart/ait_research_experiments/runs/2yhlmzp4?jupyter=true\" style=\"border:none;width:100%;height:420px;display:none;\"></iframe>"
            ],
            "text/plain": [
              "<wandb.sdk.wandb_run.Run at 0x7fa37f10fb50>"
            ]
          },
          "execution_count": 29,
          "metadata": {},
          "output_type": "execute_result"
        }
      ],
      "source": [
        "wandb.init(project=PROJECT_ID, \n",
        "           name=TRAINING_ID,\n",
        "           tags=TAGS,\n",
        "           notes='BL256, BL256, D128, D64',\n",
        "           config=wandb_config)"
      ]
    },
    {
      "cell_type": "code",
      "execution_count": 30,
      "metadata": {
        "colab": {
          "base_uri": "https://localhost:8080/"
        },
        "id": "4Lj7TtK4oEMY",
        "outputId": "8474ddfc-cc4b-4d4c-f590-ab55a976aa7a"
      },
      "outputs": [
        {
          "name": "stderr",
          "output_type": "stream",
          "text": [
            "\u001b[34m\u001b[1mwandb\u001b[0m: \u001b[33mWARNING\u001b[0m The save_model argument by default saves the model in the HDF5 format that cannot save custom objects like subclassed models and custom layers. This behavior will be deprecated in a future release in favor of the SavedModel format. Meanwhile, the HDF5 model is saved as W&B files and the SavedModel as W&B Artifacts.\n"
          ]
        },
        {
          "name": "stdout",
          "output_type": "stream",
          "text": [
            "Epoch 1/50\n",
            "375/375 [==============================] - ETA: 0s - loss: 1.8779 - accuracy: 0.4005\n",
            "Epoch 1: val_loss improved from inf to 1.32488, saving model to /content/drive/MyDrive/ait_research_experiments/models/rnn_ckpt/BiLSTM_np20ng_30K_T5_01-0.5773.hdf5\n"
          ]
        },
        {
          "name": "stderr",
          "output_type": "stream",
          "text": [
            "WARNING:absl:Found untraced functions such as lstm_cell_7_layer_call_fn, lstm_cell_7_layer_call_and_return_conditional_losses, lstm_cell_8_layer_call_fn, lstm_cell_8_layer_call_and_return_conditional_losses, lstm_cell_10_layer_call_fn while saving (showing 5 of 8). These functions will not be directly callable after loading.\n",
            "\u001b[34m\u001b[1mwandb\u001b[0m: Adding directory to artifact (/content/drive/MyDrive/ait_research_experiments/wandb/run-20221022_120025-2yhlmzp4/files/model-best)... Done. 2.1s\n"
          ]
        },
        {
          "name": "stdout",
          "output_type": "stream",
          "text": [
            "\b\b\b\b\b\b\b\b\b\b\b\b\b\b\b\b\b\b\b\b\b\b\b\b\b\b\b\b\b\b\b\b\b\b\b\b\b\b\b\b\b\b\b\b\b\b\b\b\b\b\b\b\b\b\b\b\b\b\b\b\b\b\b\b\b\b\b\b\b\b\b\b\b\b\b\b\b\b\b\b\b\b\b\b\r375/375 [==============================] - 136s 337ms/step - loss: 1.8779 - accuracy: 0.4005 - val_loss: 1.3249 - val_accuracy: 0.5773\n",
            "Epoch 2/50\n",
            "375/375 [==============================] - ETA: 0s - loss: 1.3264 - accuracy: 0.5929\n",
            "Epoch 2: val_loss improved from 1.32488 to 1.08417, saving model to /content/drive/MyDrive/ait_research_experiments/models/rnn_ckpt/BiLSTM_np20ng_30K_T5_02-0.6780.hdf5\n"
          ]
        },
        {
          "name": "stderr",
          "output_type": "stream",
          "text": [
            "WARNING:absl:Found untraced functions such as lstm_cell_7_layer_call_fn, lstm_cell_7_layer_call_and_return_conditional_losses, lstm_cell_8_layer_call_fn, lstm_cell_8_layer_call_and_return_conditional_losses, lstm_cell_10_layer_call_fn while saving (showing 5 of 8). These functions will not be directly callable after loading.\n",
            "\u001b[34m\u001b[1mwandb\u001b[0m: Adding directory to artifact (/content/drive/MyDrive/ait_research_experiments/wandb/run-20221022_120025-2yhlmzp4/files/model-best)... Done. 2.1s\n"
          ]
        },
        {
          "name": "stdout",
          "output_type": "stream",
          "text": [
            "\b\b\b\b\b\b\b\b\b\b\b\b\b\b\b\b\b\b\b\b\b\b\b\b\b\b\b\b\b\b\b\b\b\b\b\b\b\b\b\b\b\b\b\b\b\b\b\b\b\b\b\b\b\b\b\b\b\b\b\b\b\b\b\b\b\b\b\b\b\b\b\b\b\b\b\b\b\b\b\b\b\b\b\b\r375/375 [==============================] - 128s 341ms/step - loss: 1.3264 - accuracy: 0.5929 - val_loss: 1.0842 - val_accuracy: 0.6780\n",
            "Epoch 3/50\n",
            "375/375 [==============================] - ETA: 0s - loss: 1.1366 - accuracy: 0.6595\n",
            "Epoch 3: val_loss improved from 1.08417 to 1.04296, saving model to /content/drive/MyDrive/ait_research_experiments/models/rnn_ckpt/BiLSTM_np20ng_30K_T5_03-0.6837.hdf5\n"
          ]
        },
        {
          "name": "stderr",
          "output_type": "stream",
          "text": [
            "WARNING:absl:Found untraced functions such as lstm_cell_7_layer_call_fn, lstm_cell_7_layer_call_and_return_conditional_losses, lstm_cell_8_layer_call_fn, lstm_cell_8_layer_call_and_return_conditional_losses, lstm_cell_10_layer_call_fn while saving (showing 5 of 8). These functions will not be directly callable after loading.\n",
            "\u001b[34m\u001b[1mwandb\u001b[0m: Adding directory to artifact (/content/drive/MyDrive/ait_research_experiments/wandb/run-20221022_120025-2yhlmzp4/files/model-best)... Done. 2.0s\n"
          ]
        },
        {
          "name": "stdout",
          "output_type": "stream",
          "text": [
            "\b\b\b\b\b\b\b\b\b\b\b\b\b\b\b\b\b\b\b\b\b\b\b\b\b\b\b\b\b\b\b\b\b\b\b\b\b\b\b\b\b\b\b\b\b\b\b\b\b\b\b\b\b\b\b\b\b\b\b\b\b\b\b\b\b\b\b\b\b\b\b\b\b\b\b\b\b\b\b\b\b\b\b\b\r375/375 [==============================] - 128s 341ms/step - loss: 1.1366 - accuracy: 0.6595 - val_loss: 1.0430 - val_accuracy: 0.6837\n",
            "Epoch 4/50\n",
            "375/375 [==============================] - ETA: 0s - loss: 1.0127 - accuracy: 0.7021\n",
            "Epoch 4: val_loss improved from 1.04296 to 0.89450, saving model to /content/drive/MyDrive/ait_research_experiments/models/rnn_ckpt/BiLSTM_np20ng_30K_T5_04-0.7340.hdf5\n"
          ]
        },
        {
          "name": "stderr",
          "output_type": "stream",
          "text": [
            "WARNING:absl:Found untraced functions such as lstm_cell_7_layer_call_fn, lstm_cell_7_layer_call_and_return_conditional_losses, lstm_cell_8_layer_call_fn, lstm_cell_8_layer_call_and_return_conditional_losses, lstm_cell_10_layer_call_fn while saving (showing 5 of 8). These functions will not be directly callable after loading.\n",
            "\u001b[34m\u001b[1mwandb\u001b[0m: Adding directory to artifact (/content/drive/MyDrive/ait_research_experiments/wandb/run-20221022_120025-2yhlmzp4/files/model-best)... Done. 2.1s\n"
          ]
        },
        {
          "name": "stdout",
          "output_type": "stream",
          "text": [
            "\b\b\b\b\b\b\b\b\b\b\b\b\b\b\b\b\b\b\b\b\b\b\b\b\b\b\b\b\b\b\b\b\b\b\b\b\b\b\b\b\b\b\b\b\b\b\b\b\b\b\b\b\b\b\b\b\b\b\b\b\b\b\b\b\b\b\b\b\b\b\b\b\b\b\b\b\b\b\b\b\b\b\b\b\r375/375 [==============================] - 127s 339ms/step - loss: 1.0127 - accuracy: 0.7021 - val_loss: 0.8945 - val_accuracy: 0.7340\n",
            "Epoch 5/50\n",
            "375/375 [==============================] - ETA: 0s - loss: 0.9220 - accuracy: 0.7265\n",
            "Epoch 5: val_loss did not improve from 0.89450\n",
            "375/375 [==============================] - 98s 261ms/step - loss: 0.9220 - accuracy: 0.7265 - val_loss: 0.9019 - val_accuracy: 0.7303\n",
            "Epoch 6/50\n",
            "375/375 [==============================] - ETA: 0s - loss: 0.8523 - accuracy: 0.7493\n",
            "Epoch 6: val_loss improved from 0.89450 to 0.78565, saving model to /content/drive/MyDrive/ait_research_experiments/models/rnn_ckpt/BiLSTM_np20ng_30K_T5_06-0.7680.hdf5\n"
          ]
        },
        {
          "name": "stderr",
          "output_type": "stream",
          "text": [
            "WARNING:absl:Found untraced functions such as lstm_cell_7_layer_call_fn, lstm_cell_7_layer_call_and_return_conditional_losses, lstm_cell_8_layer_call_fn, lstm_cell_8_layer_call_and_return_conditional_losses, lstm_cell_10_layer_call_fn while saving (showing 5 of 8). These functions will not be directly callable after loading.\n",
            "\u001b[34m\u001b[1mwandb\u001b[0m: Adding directory to artifact (/content/drive/MyDrive/ait_research_experiments/wandb/run-20221022_120025-2yhlmzp4/files/model-best)... Done. 2.0s\n"
          ]
        },
        {
          "name": "stdout",
          "output_type": "stream",
          "text": [
            "\b\b\b\b\b\b\b\b\b\b\b\b\b\b\b\b\b\b\b\b\b\b\b\b\b\b\b\b\b\b\b\b\b\b\b\b\b\b\b\b\b\b\b\b\b\b\b\b\b\b\b\b\b\b\b\b\b\b\b\b\b\b\b\b\b\b\b\b\b\b\b\b\b\b\b\b\b\b\b\b\b\b\b\b\r375/375 [==============================] - 127s 338ms/step - loss: 0.8523 - accuracy: 0.7493 - val_loss: 0.7857 - val_accuracy: 0.7680\n",
            "Epoch 7/50\n",
            "375/375 [==============================] - ETA: 0s - loss: 0.7942 - accuracy: 0.7674\n",
            "Epoch 7: val_loss improved from 0.78565 to 0.77701, saving model to /content/drive/MyDrive/ait_research_experiments/models/rnn_ckpt/BiLSTM_np20ng_30K_T5_07-0.7673.hdf5\n"
          ]
        },
        {
          "name": "stderr",
          "output_type": "stream",
          "text": [
            "WARNING:absl:Found untraced functions such as lstm_cell_7_layer_call_fn, lstm_cell_7_layer_call_and_return_conditional_losses, lstm_cell_8_layer_call_fn, lstm_cell_8_layer_call_and_return_conditional_losses, lstm_cell_10_layer_call_fn while saving (showing 5 of 8). These functions will not be directly callable after loading.\n",
            "\u001b[34m\u001b[1mwandb\u001b[0m: Adding directory to artifact (/content/drive/MyDrive/ait_research_experiments/wandb/run-20221022_120025-2yhlmzp4/files/model-best)... Done. 2.0s\n"
          ]
        },
        {
          "name": "stdout",
          "output_type": "stream",
          "text": [
            "\b\b\b\b\b\b\b\b\b\b\b\b\b\b\b\b\b\b\b\b\b\b\b\b\b\b\b\b\b\b\b\b\b\b\b\b\b\b\b\b\b\b\b\b\b\b\b\b\b\b\b\b\b\b\b\b\b\b\b\b\b\b\b\b\b\b\b\b\b\b\b\b\b\b\b\b\b\b\b\b\b\b\b\b\r375/375 [==============================] - 127s 337ms/step - loss: 0.7942 - accuracy: 0.7674 - val_loss: 0.7770 - val_accuracy: 0.7673\n",
            "Epoch 8/50\n",
            "375/375 [==============================] - ETA: 0s - loss: 0.8216 - accuracy: 0.7588\n",
            "Epoch 8: val_loss did not improve from 0.77701\n",
            "375/375 [==============================] - 98s 261ms/step - loss: 0.8216 - accuracy: 0.7588 - val_loss: 0.7988 - val_accuracy: 0.7577\n",
            "Epoch 9/50\n",
            "375/375 [==============================] - ETA: 0s - loss: 0.7683 - accuracy: 0.7693\n",
            "Epoch 9: val_loss improved from 0.77701 to 0.74650, saving model to /content/drive/MyDrive/ait_research_experiments/models/rnn_ckpt/BiLSTM_np20ng_30K_T5_09-0.7717.hdf5\n"
          ]
        },
        {
          "name": "stderr",
          "output_type": "stream",
          "text": [
            "WARNING:absl:Found untraced functions such as lstm_cell_7_layer_call_fn, lstm_cell_7_layer_call_and_return_conditional_losses, lstm_cell_8_layer_call_fn, lstm_cell_8_layer_call_and_return_conditional_losses, lstm_cell_10_layer_call_fn while saving (showing 5 of 8). These functions will not be directly callable after loading.\n",
            "\u001b[34m\u001b[1mwandb\u001b[0m: Adding directory to artifact (/content/drive/MyDrive/ait_research_experiments/wandb/run-20221022_120025-2yhlmzp4/files/model-best)... Done. 2.0s\n"
          ]
        },
        {
          "name": "stdout",
          "output_type": "stream",
          "text": [
            "\b\b\b\b\b\b\b\b\b\b\b\b\b\b\b\b\b\b\b\b\b\b\b\b\b\b\b\b\b\b\b\b\b\b\b\b\b\b\b\b\b\b\b\b\b\b\b\b\b\b\b\b\b\b\b\b\b\b\b\b\b\b\b\b\b\b\b\b\b\b\b\b\b\b\b\b\b\b\b\b\b\b\b\b\r375/375 [==============================] - 128s 341ms/step - loss: 0.7683 - accuracy: 0.7693 - val_loss: 0.7465 - val_accuracy: 0.7717\n",
            "Epoch 10/50\n",
            "375/375 [==============================] - ETA: 0s - loss: 0.6926 - accuracy: 0.7922\n",
            "Epoch 10: val_loss improved from 0.74650 to 0.70244, saving model to /content/drive/MyDrive/ait_research_experiments/models/rnn_ckpt/BiLSTM_np20ng_30K_T5_10-0.7867.hdf5\n"
          ]
        },
        {
          "name": "stderr",
          "output_type": "stream",
          "text": [
            "WARNING:absl:Found untraced functions such as lstm_cell_7_layer_call_fn, lstm_cell_7_layer_call_and_return_conditional_losses, lstm_cell_8_layer_call_fn, lstm_cell_8_layer_call_and_return_conditional_losses, lstm_cell_10_layer_call_fn while saving (showing 5 of 8). These functions will not be directly callable after loading.\n",
            "\u001b[34m\u001b[1mwandb\u001b[0m: Adding directory to artifact (/content/drive/MyDrive/ait_research_experiments/wandb/run-20221022_120025-2yhlmzp4/files/model-best)... Done. 2.0s\n"
          ]
        },
        {
          "name": "stdout",
          "output_type": "stream",
          "text": [
            "\b\b\b\b\b\b\b\b\b\b\b\b\b\b\b\b\b\b\b\b\b\b\b\b\b\b\b\b\b\b\b\b\b\b\b\b\b\b\b\b\b\b\b\b\b\b\b\b\b\b\b\b\b\b\b\b\b\b\b\b\b\b\b\b\b\b\b\b\b\b\b\b\b\b\b\b\b\b\b\b\b\b\b\b\r375/375 [==============================] - 127s 340ms/step - loss: 0.6926 - accuracy: 0.7922 - val_loss: 0.7024 - val_accuracy: 0.7867\n",
            "Epoch 11/50\n",
            "375/375 [==============================] - ETA: 0s - loss: 0.6617 - accuracy: 0.7996\n",
            "Epoch 11: val_loss did not improve from 0.70244\n",
            "375/375 [==============================] - 98s 262ms/step - loss: 0.6617 - accuracy: 0.7996 - val_loss: 0.7463 - val_accuracy: 0.7790\n",
            "Epoch 12/50\n",
            "375/375 [==============================] - ETA: 0s - loss: 0.6747 - accuracy: 0.8011\n",
            "Epoch 12: val_loss improved from 0.70244 to 0.66691, saving model to /content/drive/MyDrive/ait_research_experiments/models/rnn_ckpt/BiLSTM_np20ng_30K_T5_12-0.7973.hdf5\n"
          ]
        },
        {
          "name": "stderr",
          "output_type": "stream",
          "text": [
            "WARNING:absl:Found untraced functions such as lstm_cell_7_layer_call_fn, lstm_cell_7_layer_call_and_return_conditional_losses, lstm_cell_8_layer_call_fn, lstm_cell_8_layer_call_and_return_conditional_losses, lstm_cell_10_layer_call_fn while saving (showing 5 of 8). These functions will not be directly callable after loading.\n",
            "\u001b[34m\u001b[1mwandb\u001b[0m: Adding directory to artifact (/content/drive/MyDrive/ait_research_experiments/wandb/run-20221022_120025-2yhlmzp4/files/model-best)... Done. 2.0s\n"
          ]
        },
        {
          "name": "stdout",
          "output_type": "stream",
          "text": [
            "\b\b\b\b\b\b\b\b\b\b\b\b\b\b\b\b\b\b\b\b\b\b\b\b\b\b\b\b\b\b\b\b\b\b\b\b\b\b\b\b\b\b\b\b\b\b\b\b\b\b\b\b\b\b\b\b\b\b\b\b\b\b\b\b\b\b\b\b\b\b\b\b\b\b\b\b\b\b\b\b\b\b\b\b\r375/375 [==============================] - 128s 341ms/step - loss: 0.6747 - accuracy: 0.8011 - val_loss: 0.6669 - val_accuracy: 0.7973\n",
            "Epoch 13/50\n",
            "375/375 [==============================] - ETA: 0s - loss: 0.6323 - accuracy: 0.8071\n",
            "Epoch 13: val_loss improved from 0.66691 to 0.64581, saving model to /content/drive/MyDrive/ait_research_experiments/models/rnn_ckpt/BiLSTM_np20ng_30K_T5_13-0.8103.hdf5\n"
          ]
        },
        {
          "name": "stderr",
          "output_type": "stream",
          "text": [
            "WARNING:absl:Found untraced functions such as lstm_cell_7_layer_call_fn, lstm_cell_7_layer_call_and_return_conditional_losses, lstm_cell_8_layer_call_fn, lstm_cell_8_layer_call_and_return_conditional_losses, lstm_cell_10_layer_call_fn while saving (showing 5 of 8). These functions will not be directly callable after loading.\n",
            "\u001b[34m\u001b[1mwandb\u001b[0m: Adding directory to artifact (/content/drive/MyDrive/ait_research_experiments/wandb/run-20221022_120025-2yhlmzp4/files/model-best)... Done. 2.0s\n"
          ]
        },
        {
          "name": "stdout",
          "output_type": "stream",
          "text": [
            "\b\b\b\b\b\b\b\b\b\b\b\b\b\b\b\b\b\b\b\b\b\b\b\b\b\b\b\b\b\b\b\b\b\b\b\b\b\b\b\b\b\b\b\b\b\b\b\b\b\b\b\b\b\b\b\b\b\b\b\b\b\b\b\b\b\b\b\b\b\b\b\b\b\b\b\b\b\b\b\b\b\b\b\b\r375/375 [==============================] - 128s 340ms/step - loss: 0.6323 - accuracy: 0.8071 - val_loss: 0.6458 - val_accuracy: 0.8103\n",
            "Epoch 14/50\n",
            "375/375 [==============================] - ETA: 0s - loss: 0.5795 - accuracy: 0.8242\n",
            "Epoch 14: val_loss improved from 0.64581 to 0.61547, saving model to /content/drive/MyDrive/ait_research_experiments/models/rnn_ckpt/BiLSTM_np20ng_30K_T5_14-0.8107.hdf5\n"
          ]
        },
        {
          "name": "stderr",
          "output_type": "stream",
          "text": [
            "WARNING:absl:Found untraced functions such as lstm_cell_7_layer_call_fn, lstm_cell_7_layer_call_and_return_conditional_losses, lstm_cell_8_layer_call_fn, lstm_cell_8_layer_call_and_return_conditional_losses, lstm_cell_10_layer_call_fn while saving (showing 5 of 8). These functions will not be directly callable after loading.\n",
            "\u001b[34m\u001b[1mwandb\u001b[0m: Adding directory to artifact (/content/drive/MyDrive/ait_research_experiments/wandb/run-20221022_120025-2yhlmzp4/files/model-best)... Done. 2.0s\n"
          ]
        },
        {
          "name": "stdout",
          "output_type": "stream",
          "text": [
            "\b\b\b\b\b\b\b\b\b\b\b\b\b\b\b\b\b\b\b\b\b\b\b\b\b\b\b\b\b\b\b\b\b\b\b\b\b\b\b\b\b\b\b\b\b\b\b\b\b\b\b\b\b\b\b\b\b\b\b\b\b\b\b\b\b\b\b\b\b\b\b\b\b\b\b\b\b\b\b\b\b\b\b\b\r375/375 [==============================] - 128s 342ms/step - loss: 0.5795 - accuracy: 0.8242 - val_loss: 0.6155 - val_accuracy: 0.8107\n",
            "Epoch 15/50\n",
            "375/375 [==============================] - ETA: 0s - loss: 0.5521 - accuracy: 0.8297\n",
            "Epoch 15: val_loss did not improve from 0.61547\n",
            "375/375 [==============================] - 98s 262ms/step - loss: 0.5521 - accuracy: 0.8297 - val_loss: 0.6200 - val_accuracy: 0.8173\n",
            "Epoch 16/50\n",
            "375/375 [==============================] - ETA: 0s - loss: 0.5256 - accuracy: 0.8368\n",
            "Epoch 16: val_loss did not improve from 0.61547\n",
            "375/375 [==============================] - 98s 261ms/step - loss: 0.5256 - accuracy: 0.8368 - val_loss: 0.6257 - val_accuracy: 0.8093\n",
            "Epoch 17/50\n",
            "375/375 [==============================] - ETA: 0s - loss: 0.4996 - accuracy: 0.8430\n",
            "Epoch 17: val_loss did not improve from 0.61547\n",
            "375/375 [==============================] - 98s 261ms/step - loss: 0.4996 - accuracy: 0.8430 - val_loss: 0.6424 - val_accuracy: 0.8130\n",
            "Epoch 18/50\n",
            "375/375 [==============================] - ETA: 0s - loss: 0.4762 - accuracy: 0.8498\n",
            "Epoch 18: val_loss did not improve from 0.61547\n",
            "375/375 [==============================] - 98s 261ms/step - loss: 0.4762 - accuracy: 0.8498 - val_loss: 0.6475 - val_accuracy: 0.8160\n",
            "Epoch 19/50\n",
            "375/375 [==============================] - ETA: 0s - loss: 0.4561 - accuracy: 0.8558\n",
            "Epoch 19: val_loss did not improve from 0.61547\n",
            "375/375 [==============================] - 98s 260ms/step - loss: 0.4561 - accuracy: 0.8558 - val_loss: 0.6261 - val_accuracy: 0.8183\n",
            "Epoch 19: early stopping\n"
          ]
        }
      ],
      "source": [
        "history = model.fit(X_train, \n",
        "                    y_train, \n",
        "                    epochs = EPOCH, \n",
        "                    batch_size=BATCH_SIZE, \n",
        "                    verbose = 1, \n",
        "                    validation_data = (X_valid, y_valid), \n",
        "                    callbacks=[ES_CALLBACK, MODEL_CHECKPOINT_CALLBACK, WandbCallback()])"
      ]
    },
    {
      "cell_type": "code",
      "execution_count": 31,
      "metadata": {
        "colab": {
          "base_uri": "https://localhost:8080/",
          "height": 573
        },
        "id": "bgAPvuBOo45j",
        "outputId": "6b9adade-1862-4826-a147-5b79baa28f9d"
      },
      "outputs": [
        {
          "data": {
            "image/png": "[encoded data removed]",
            "text/plain": [
              "<Figure size 432x288 with 1 Axes>"
            ]
          },
          "metadata": {
            "needs_background": "light"
          },
          "output_type": "display_data"
        },
        {
          "data": {
            "image/png": "[encoded data removed]",
            "text/plain": [
              "<Figure size 432x288 with 1 Axes>"
            ]
          },
          "metadata": {
            "needs_background": "light"
          },
          "output_type": "display_data"
        }
      ],
      "source": [
        "plot_history(history)"
      ]
    },
    {
      "cell_type": "markdown",
      "metadata": {
        "id": "w0Ygsb51GM-E"
      },
      "source": [
        "Best Epoch: 13"
      ]
    },
    {
      "cell_type": "markdown",
      "metadata": {
        "id": "kOL2352TeoEF"
      },
      "source": [
        "### Test Set Evaluation"
      ]
    },
    {
      "cell_type": "code",
      "execution_count": 32,
      "metadata": {
        "colab": {
          "base_uri": "https://localhost:8080/"
        },
        "id": "vOSl5vIx0hYz",
        "outputId": "3b7ba838-4e6d-4579-94d8-d23136dbfbd6"
      },
      "outputs": [
        {
          "name": "stderr",
          "output_type": "stream",
          "text": [
            "\u001b[34m\u001b[1mwandb\u001b[0m: Downloading large artifact model-BiLSTM_np20ng_30K_T5:latest, 280.76MB. 4 files... \n",
            "\u001b[34m\u001b[1mwandb\u001b[0m:   4 of 4 files downloaded.  \n",
            "Done. 0:0:0.8\n"
          ]
        }
      ],
      "source": [
        "artifact = wandb.run.use_artifact(f'suyogyart/ait_research_experiments/model-{model_arch}_{dataset}_{size}_{t_id}:latest')\n",
        "\n",
        "datadir = artifact.download()"
      ]
    },
    {
      "cell_type": "code",
      "execution_count": 35,
      "metadata": {
        "id": "KyfLcYMGGZy9"
      },
      "outputs": [],
      "source": []
    },
    {
      "cell_type": "code",
      "execution_count": 33,
      "metadata": {
        "colab": {
          "base_uri": "https://localhost:8080/"
        },
        "id": "e3kiR1XAhyDG",
        "outputId": "f2f1f05a-5d97-400e-c6c3-17d74f971d15"
      },
      "outputs": [
        {
          "name": "stdout",
          "output_type": "stream",
          "text": [
            "Model: \"sequential_2\"\n",
            "_________________________________________________________________\n",
            " Layer (type)                Output Shape              Param #   \n",
            "=================================================================\n",
            " embedding_2 (Embedding)     (None, 512, 300)          64038600  \n",
            "                                                                 \n",
            " bidirectional_4 (Bidirectio  (None, 512, 512)         1140736   \n",
            " nal)                                                            \n",
            "                                                                 \n",
            " dropout_4 (Dropout)         (None, 512, 512)          0         \n",
            "                                                                 \n",
            " bidirectional_5 (Bidirectio  (None, 512)              1574912   \n",
            " nal)                                                            \n",
            "                                                                 \n",
            " dense_6 (Dense)             (None, 128)               65664     \n",
            "                                                                 \n",
            " dropout_5 (Dropout)         (None, 128)               0         \n",
            "                                                                 \n",
            " dense_7 (Dense)             (None, 64)                8256      \n",
            "                                                                 \n",
            " dense_8 (Dense)             (None, 20)                1300      \n",
            "                                                                 \n",
            "=================================================================\n",
            "Total params: 66,829,468\n",
            "Trainable params: 2,790,868\n",
            "Non-trainable params: 64,038,600\n",
            "_________________________________________________________________\n",
            "Created model and loaded weights from file\n"
          ]
        }
      ],
      "source": [
        "# Create model\n",
        "model = create_model()\n",
        "\n",
        "# Load weights\n",
        "model.load_weights(datadir)\n",
        "# model.load_weights('/content/drive/MyDrive/ait_research_experiments/models/rnn_ckpt/BiLSTM_np16ng_30K_T2_PCD_10-0.81.hdf5')\n",
        "\n",
        "print(\"Created model and loaded weights from file\")"
      ]
    },
    {
      "cell_type": "code",
      "execution_count": 34,
      "metadata": {
        "colab": {
          "base_uri": "https://localhost:8080/"
        },
        "id": "F9OtPKXjWapY",
        "outputId": "3aa47c18-e699-40bf-aaeb-5f1b6a5419ce"
      },
      "outputs": [
        {
          "name": "stdout",
          "output_type": "stream",
          "text": [
            "94/94 [==============================] - 6s 54ms/step\n",
            "               precision    recall  f1-score   support\n",
            "\n",
            "         Arts       0.78      0.77      0.78       150\n",
            "   Automobile       0.83      0.93      0.88       150\n",
            "         Bank       0.82      0.84      0.83       150\n",
            "     Business       0.62      0.57      0.59       150\n",
            "        Crime       0.91      0.90      0.90       150\n",
            "      Economy       0.65      0.55      0.59       150\n",
            "    Education       0.85      0.94      0.89       150\n",
            "   Employment       0.77      0.88      0.82       150\n",
            "Entertainment       0.92      0.71      0.80       150\n",
            "       Health       0.80      0.79      0.80       150\n",
            "    Lifestyle       0.81      0.92      0.86       150\n",
            "   Literature       0.77      0.89      0.82       150\n",
            "       Market       0.83      0.82      0.83       150\n",
            "      Opinion       0.93      0.83      0.87       150\n",
            "     Politics       0.90      0.83      0.87       150\n",
            "      Society       0.80      0.74      0.77       150\n",
            "       Sports       0.99      0.94      0.97       150\n",
            "   Technology       0.82      0.86      0.84       150\n",
            "      Tourism       0.85      0.87      0.86       150\n",
            "        World       0.81      0.85      0.83       150\n",
            "\n",
            "     accuracy                           0.82      3000\n",
            "    macro avg       0.82      0.82      0.82      3000\n",
            " weighted avg       0.82      0.82      0.82      3000\n",
            "\n",
            "Test Accuracy: 0.822\n",
            "Test Precision weighted: 0.8228\n"
          ]
        }
      ],
      "source": [
        "from sklearn.metrics import classification_report, accuracy_score, precision_score\n",
        "\n",
        "X_test = tokenizer.texts_to_sequences(test_df['content'].values)\n",
        "X_test = pad_sequences(X_test, padding = 'post', maxlen=512)\n",
        "\n",
        "predictions = model.predict(X_test)\n",
        "\n",
        "y_pred=np.argmax(predictions, axis=1)\n",
        "\n",
        "y_test = test_df['labels']\n",
        "\n",
        "print(classification_report(y_test, y_pred, target_names=np.sort(train_df.category.unique())))\n",
        "\n",
        "test_accuracy = accuracy_score(y_test, y_pred)\n",
        "test_precision = round(precision_score(y_test, y_pred, average='weighted'), 4)\n",
        "\n",
        "print('Test Accuracy:', test_accuracy)\n",
        "print('Test Precision weighted:', test_precision)"
      ]
    },
    {
      "cell_type": "code",
      "execution_count": 35,
      "metadata": {
        "id": "OfZRBmZhidoX"
      },
      "outputs": [],
      "source": [
        "wandb.log({'test_accuracy': test_accuracy})\n",
        "wandb.log({'test_precision_weighted': test_precision})"
      ]
    },
    {
      "cell_type": "code",
      "execution_count": 36,
      "metadata": {
        "id": "hfbVLPQiisKb"
      },
      "outputs": [],
      "source": [
        "# Log Confusion Matrix from wandb\n",
        "wandb.sklearn.plot_confusion_matrix(\n",
        "    y_true=y_test, \n",
        "    y_pred=y_pred, \n",
        "    labels=np.sort(train_df.category.unique())\n",
        ")"
      ]
    },
    {
      "cell_type": "code",
      "execution_count": 37,
      "metadata": {
        "id": "3geBUgcs8K7J"
      },
      "outputs": [],
      "source": [
        "# Log Classification Report as a table\n",
        "from sklearn.metrics import classification_report\n",
        "import pandas as pd\n",
        "\n",
        "report = classification_report(y_test, y_pred, target_names=np.sort(train_df.category.unique()), output_dict=True)\n",
        "df = pd.DataFrame(report).transpose()\n",
        "df = df.drop('accuracy')\n",
        "df = df.reset_index(drop=True)\n",
        "df = df.round(3)\n",
        "df.support = df.support.astype('int')\n",
        "\n",
        "wandb.log({'classification_report': df})"
      ]
    },
    {
      "cell_type": "code",
      "execution_count": 38,
      "metadata": {
        "colab": {
          "base_uri": "https://localhost:8080/",
          "height": 405,
          "referenced_widgets": [
            "5933f8ccd5a74f34bff74aee8eb3a956",
            "ce382fa5fe6c4be1b2b8c32fabbe0076",
            "eb1fe86b77b34e838831743afd78f496",
            "4f8c008b149c4820956d89451e6aa400",
            "02d02203938b42fba49ccf14a9983469",
            "11daa973ef5745c7930e5621af78a9a9",
            "ec0307ab59234b18a67b2e1e903eaedc",
            "6b30d5ac4c1345aa89656c59c495ef20"
          ]
        },
        "id": "3G41W5diSjWE",
        "outputId": "50d4c184-f4ae-4a25-8a1b-7f05d1673cbb"
      },
      "outputs": [
        {
          "data": {
            "text/html": [
              "Waiting for W&B process to finish... <strong style=\"color:green\">(success).</strong>"
            ],
            "text/plain": [
              "<IPython.core.display.HTML object>"
            ]
          },
          "metadata": {},
          "output_type": "display_data"
        },
        {
          "data": {
            "application/vnd.jupyter.widget-view+json": {
              "model_id": "5933f8ccd5a74f34bff74aee8eb3a956",
              "version_major": 2,
              "version_minor": 0
            },
            "text/plain": [
              "VBox(children=(Label(value='3364.460 MB of 3364.460 MB uploaded (0.027 MB deduped)\\r'), FloatProgress(value=1.…"
            ]
          },
          "metadata": {},
          "output_type": "display_data"
        },
        {
          "data": {
            "text/html": [
              "<style>\n",
              "    table.wandb td:nth-child(1) { padding: 0 10px; text-align: left ; width: auto;} td:nth-child(2) {text-align: left ; width: 100%}\n",
              "    .wandb-row { display: flex; flex-direction: row; flex-wrap: wrap; justify-content: flex-start; width: 100% }\n",
              "    .wandb-col { display: flex; flex-direction: column; flex-basis: 100%; flex: 1; padding: 10px; }\n",
              "    </style>\n",
              "<div class=\"wandb-row\"><div class=\"wandb-col\"><h3>Run history:</h3><br/><table class=\"wandb\"><tr><td>accuracy</td><td>▁▄▅▆▆▆▇▇▇▇▇▇▇██████</td></tr><tr><td>epoch</td><td>▁▁▂▂▃▃▃▄▄▅▅▅▆▆▆▇▇██</td></tr><tr><td>loss</td><td>█▅▄▄▃▃▃▃▃▂▂▂▂▂▁▁▁▁▁</td></tr><tr><td>test_accuracy</td><td>▁</td></tr><tr><td>test_precision_weighted</td><td>▁</td></tr><tr><td>val_accuracy</td><td>▁▄▄▆▅▇▇▆▇▇▇▇███████</td></tr><tr><td>val_loss</td><td>█▆▅▄▄▃▃▃▂▂▂▂▁▁▁▁▁▁▁</td></tr></table><br/></div><div class=\"wandb-col\"><h3>Run summary:</h3><br/><table class=\"wandb\"><tr><td>accuracy</td><td>0.85575</td></tr><tr><td>best_epoch</td><td>13</td></tr><tr><td>best_val_loss</td><td>0.61547</td></tr><tr><td>epoch</td><td>18</td></tr><tr><td>loss</td><td>0.45613</td></tr><tr><td>test_accuracy</td><td>0.822</td></tr><tr><td>test_precision_weighted</td><td>0.8228</td></tr><tr><td>val_accuracy</td><td>0.81833</td></tr><tr><td>val_loss</td><td>0.62611</td></tr></table><br/></div></div>"
            ],
            "text/plain": [
              "<IPython.core.display.HTML object>"
            ]
          },
          "metadata": {},
          "output_type": "display_data"
        },
        {
          "data": {
            "text/html": [
              "Synced <strong style=\"color:#cdcd00\">BiLSTM_np20ng_30K_T5</strong>: <a href=\"https://wandb.ai/suyogyart/ait_research_experiments/runs/2yhlmzp4\" target=\"_blank\">https://wandb.ai/suyogyart/ait_research_experiments/runs/2yhlmzp4</a><br/>Synced 5 W&B file(s), 3 media file(s), 36 artifact file(s) and 1 other file(s)"
            ],
            "text/plain": [
              "<IPython.core.display.HTML object>"
            ]
          },
          "metadata": {},
          "output_type": "display_data"
        },
        {
          "data": {
            "text/html": [
              "Find logs at: <code>./wandb/run-20221022_120025-2yhlmzp4/logs</code>"
            ],
            "text/plain": [
              "<IPython.core.display.HTML object>"
            ]
          },
          "metadata": {},
          "output_type": "display_data"
        }
      ],
      "source": [
        "wandb.finish()"
      ]
    },
    {
      "cell_type": "markdown",
      "metadata": {
        "id": "c5TFRWZ9fBfx"
      },
      "source": [
        "### Save Model"
      ]
    },
    {
      "cell_type": "code",
      "execution_count": 39,
      "metadata": {
        "id": "gbuZeeX9d96O"
      },
      "outputs": [],
      "source": [
        "model.save(os.path.join(os.getcwd(), f'models/{model_arch}_{dataset}_{size}_{t_id}_{test_accuracy}.h5'))"
      ]
    },
    {
      "cell_type": "code",
      "execution_count": null,
      "metadata": {
        "id": "to0Myp7oOzOh"
      },
      "outputs": [],
      "source": []
    }
  ],
  "metadata": {
    "accelerator": "GPU",
    "colab": {
      "collapsed_sections": [],
      "machine_shape": "hm",
      "provenance": []
    },
    "gpuClass": "standard",
    "kernelspec": {
      "display_name": "nlp",
      "language": "python",
      "name": "nlp"
    },
    "language_info": {
      "codemirror_mode": {
        "name": "ipython",
        "version": 3
      },
      "file_extension": ".py",
      "mimetype": "text/x-python",
      "name": "python",
      "nbconvert_exporter": "python",
      "pygments_lexer": "ipython3",
      "version": "3.8.10"
    },
    "widgets": {
      "application/vnd.jupyter.widget-state+json": {
        "02d02203938b42fba49ccf14a9983469": {
          "model_module": "@jupyter-widgets/base",
          "model_module_version": "1.2.0",
          "model_name": "LayoutModel",
          "state": {
            "_model_module": "@jupyter-widgets/base",
            "_model_module_version": "1.2.0",
            "_model_name": "LayoutModel",
            "_view_count": null,
            "_view_module": "@jupyter-widgets/base",
            "_view_module_version": "1.2.0",
            "_view_name": "LayoutView",
            "align_content": null,
            "align_items": null,
            "align_self": null,
            "border": null,
            "bottom": null,
            "display": null,
            "flex": null,
            "flex_flow": null,
            "grid_area": null,
            "grid_auto_columns": null,
            "grid_auto_flow": null,
            "grid_auto_rows": null,
            "grid_column": null,
            "grid_gap": null,
            "grid_row": null,
            "grid_template_areas": null,
            "grid_template_columns": null,
            "grid_template_rows": null,
            "height": null,
            "justify_content": null,
            "justify_items": null,
            "left": null,
            "margin": null,
            "max_height": null,
            "max_width": null,
            "min_height": null,
            "min_width": null,
            "object_fit": null,
            "object_position": null,
            "order": null,
            "overflow": null,
            "overflow_x": null,
            "overflow_y": null,
            "padding": null,
            "right": null,
            "top": null,
            "visibility": null,
            "width": null
          }
        },
        "11daa973ef5745c7930e5621af78a9a9": {
          "model_module": "@jupyter-widgets/controls",
          "model_module_version": "1.5.0",
          "model_name": "DescriptionStyleModel",
          "state": {
            "_model_module": "@jupyter-widgets/controls",
            "_model_module_version": "1.5.0",
            "_model_name": "DescriptionStyleModel",
            "_view_count": null,
            "_view_module": "@jupyter-widgets/base",
            "_view_module_version": "1.2.0",
            "_view_name": "StyleView",
            "description_width": ""
          }
        },
        "4f8c008b149c4820956d89451e6aa400": {
          "model_module": "@jupyter-widgets/base",
          "model_module_version": "1.2.0",
          "model_name": "LayoutModel",
          "state": {
            "_model_module": "@jupyter-widgets/base",
            "_model_module_version": "1.2.0",
            "_model_name": "LayoutModel",
            "_view_count": null,
            "_view_module": "@jupyter-widgets/base",
            "_view_module_version": "1.2.0",
            "_view_name": "LayoutView",
            "align_content": null,
            "align_items": null,
            "align_self": null,
            "border": null,
            "bottom": null,
            "display": null,
            "flex": null,
            "flex_flow": null,
            "grid_area": null,
            "grid_auto_columns": null,
            "grid_auto_flow": null,
            "grid_auto_rows": null,
            "grid_column": null,
            "grid_gap": null,
            "grid_row": null,
            "grid_template_areas": null,
            "grid_template_columns": null,
            "grid_template_rows": null,
            "height": null,
            "justify_content": null,
            "justify_items": null,
            "left": null,
            "margin": null,
            "max_height": null,
            "max_width": null,
            "min_height": null,
            "min_width": null,
            "object_fit": null,
            "object_position": null,
            "order": null,
            "overflow": null,
            "overflow_x": null,
            "overflow_y": null,
            "padding": null,
            "right": null,
            "top": null,
            "visibility": null,
            "width": null
          }
        },
        "5933f8ccd5a74f34bff74aee8eb3a956": {
          "model_module": "@jupyter-widgets/controls",
          "model_module_version": "1.5.0",
          "model_name": "VBoxModel",
          "state": {
            "_dom_classes": [],
            "_model_module": "@jupyter-widgets/controls",
            "_model_module_version": "1.5.0",
            "_model_name": "VBoxModel",
            "_view_count": null,
            "_view_module": "@jupyter-widgets/controls",
            "_view_module_version": "1.5.0",
            "_view_name": "VBoxView",
            "box_style": "",
            "children": [
              "IPY_MODEL_ce382fa5fe6c4be1b2b8c32fabbe0076",
              "IPY_MODEL_eb1fe86b77b34e838831743afd78f496"
            ],
            "layout": "IPY_MODEL_4f8c008b149c4820956d89451e6aa400"
          }
        },
        "6b30d5ac4c1345aa89656c59c495ef20": {
          "model_module": "@jupyter-widgets/controls",
          "model_module_version": "1.5.0",
          "model_name": "ProgressStyleModel",
          "state": {
            "_model_module": "@jupyter-widgets/controls",
            "_model_module_version": "1.5.0",
            "_model_name": "ProgressStyleModel",
            "_view_count": null,
            "_view_module": "@jupyter-widgets/base",
            "_view_module_version": "1.2.0",
            "_view_name": "StyleView",
            "bar_color": null,
            "description_width": ""
          }
        },
        "ce382fa5fe6c4be1b2b8c32fabbe0076": {
          "model_module": "@jupyter-widgets/controls",
          "model_module_version": "1.5.0",
          "model_name": "LabelModel",
          "state": {
            "_dom_classes": [],
            "_model_module": "@jupyter-widgets/controls",
            "_model_module_version": "1.5.0",
            "_model_name": "LabelModel",
            "_view_count": null,
            "_view_module": "@jupyter-widgets/controls",
            "_view_module_version": "1.5.0",
            "_view_name": "LabelView",
            "description": "",
            "description_tooltip": null,
            "layout": "IPY_MODEL_02d02203938b42fba49ccf14a9983469",
            "placeholder": "​",
            "style": "IPY_MODEL_11daa973ef5745c7930e5621af78a9a9",
            "value": "3260.037 MB of 3364.485 MB uploaded (0.027 MB deduped)\r"
          }
        },
        "eb1fe86b77b34e838831743afd78f496": {
          "model_module": "@jupyter-widgets/controls",
          "model_module_version": "1.5.0",
          "model_name": "FloatProgressModel",
          "state": {
            "_dom_classes": [],
            "_model_module": "@jupyter-widgets/controls",
            "_model_module_version": "1.5.0",
            "_model_name": "FloatProgressModel",
            "_view_count": null,
            "_view_module": "@jupyter-widgets/controls",
            "_view_module_version": "1.5.0",
            "_view_name": "ProgressView",
            "bar_style": "",
            "description": "",
            "description_tooltip": null,
            "layout": "IPY_MODEL_ec0307ab59234b18a67b2e1e903eaedc",
            "max": 1,
            "min": 0,
            "orientation": "horizontal",
            "style": "IPY_MODEL_6b30d5ac4c1345aa89656c59c495ef20",
            "value": 0.9689558886857005
          }
        },
        "ec0307ab59234b18a67b2e1e903eaedc": {
          "model_module": "@jupyter-widgets/base",
          "model_module_version": "1.2.0",
          "model_name": "LayoutModel",
          "state": {
            "_model_module": "@jupyter-widgets/base",
            "_model_module_version": "1.2.0",
            "_model_name": "LayoutModel",
            "_view_count": null,
            "_view_module": "@jupyter-widgets/base",
            "_view_module_version": "1.2.0",
            "_view_name": "LayoutView",
            "align_content": null,
            "align_items": null,
            "align_self": null,
            "border": null,
            "bottom": null,
            "display": null,
            "flex": null,
            "flex_flow": null,
            "grid_area": null,
            "grid_auto_columns": null,
            "grid_auto_flow": null,
            "grid_auto_rows": null,
            "grid_column": null,
            "grid_gap": null,
            "grid_row": null,
            "grid_template_areas": null,
            "grid_template_columns": null,
            "grid_template_rows": null,
            "height": null,
            "justify_content": null,
            "justify_items": null,
            "left": null,
            "margin": null,
            "max_height": null,
            "max_width": null,
            "min_height": null,
            "min_width": null,
            "object_fit": null,
            "object_position": null,
            "order": null,
            "overflow": null,
            "overflow_x": null,
            "overflow_y": null,
            "padding": null,
            "right": null,
            "top": null,
            "visibility": null,
            "width": null
          }
        }
      }
    }
  },
  "nbformat": 4,
  "nbformat_minor": 0
}
