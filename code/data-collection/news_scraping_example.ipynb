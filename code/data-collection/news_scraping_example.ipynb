{
 "cells": [
  {
   "cell_type": "markdown",
   "metadata": {},
   "source": [
    "# Example Usage of Nepali News Scraper"
   ]
  },
  {
   "cell_type": "code",
   "execution_count": 2,
   "metadata": {},
   "outputs": [],
   "source": [
    "from nepali_news_scraper import *"
   ]
  },
  {
   "cell_type": "markdown",
   "metadata": {},
   "source": [
    "**To extract news articles from Nepali news websites**\n",
    "* Specify a category-specific url (the one which contains list of news articles)\n",
    "* Specify starting and ending page index (only for websites which have pagination)\n",
    "* Either manual export or automatic."
   ]
  },
  {
   "cell_type": "code",
   "execution_count": 3,
   "metadata": {},
   "outputs": [
    {
     "name": "stderr",
     "output_type": "stream",
     "text": [
      "100%|██████████| 2/2 [00:01<00:00,  1.16it/s]\n"
     ]
    },
    {
     "name": "stdout",
     "output_type": "stream",
     "text": [
      "Extracted 60 urls.\n",
      "Extracted 60 headings.\n",
      "0 errors !\n",
      "Scraping contents from urls...\n"
     ]
    },
    {
     "name": "stderr",
     "output_type": "stream",
     "text": [
      "100%|██████████| 60/60 [00:38<00:00,  1.55it/s]"
     ]
    },
    {
     "name": "stdout",
     "output_type": "stream",
     "text": [
      "Extracted 60 contents.\n",
      "Dataframe created.\n"
     ]
    },
    {
     "name": "stderr",
     "output_type": "stream",
     "text": [
      "\n"
     ]
    }
   ],
   "source": [
    "# Example 1\n",
    "ns = NepaliNewsScraper(category='Sports')\n",
    "ns.fetch_articles_from_onlinekhabar(\n",
    "    ok_category_url='https://www.onlinekhabar.com/content/sports-news', \n",
    "    page_from=1, \n",
    "    page_to=2, \n",
    "    export_to_csv=False\n",
    ")"
   ]
  },
  {
   "cell_type": "code",
   "execution_count": 4,
   "metadata": {},
   "outputs": [
    {
     "data": {
      "text/html": [
       "<div>\n",
       "<style scoped>\n",
       "    .dataframe tbody tr th:only-of-type {\n",
       "        vertical-align: middle;\n",
       "    }\n",
       "\n",
       "    .dataframe tbody tr th {\n",
       "        vertical-align: top;\n",
       "    }\n",
       "\n",
       "    .dataframe thead th {\n",
       "        text-align: right;\n",
       "    }\n",
       "</style>\n",
       "<table border=\"1\" class=\"dataframe\">\n",
       "  <thead>\n",
       "    <tr style=\"text-align: right;\">\n",
       "      <th></th>\n",
       "      <th>source</th>\n",
       "      <th>category</th>\n",
       "      <th>heading</th>\n",
       "      <th>content</th>\n",
       "    </tr>\n",
       "  </thead>\n",
       "  <tbody>\n",
       "    <tr>\n",
       "      <th>21</th>\n",
       "      <td>Onlinekhabar</td>\n",
       "      <td>Sports</td>\n",
       "      <td>रुविनाको ह्याट्रिकमा क्यान-११ विजयी</td>\n",
       "      <td>११ कात्तिक, पोखरा । रुविना क्षेत्रीले ह्याट्रि...</td>\n",
       "    </tr>\n",
       "    <tr>\n",
       "      <th>45</th>\n",
       "      <td>Onlinekhabar</td>\n",
       "      <td>Sports</td>\n",
       "      <td>अंकमा नवौं राष्ट्रिय खेलकुद</td>\n",
       "      <td>७ कात्तिक, काठमाडौं । घरेलु खेलकुदको सबैभन्दा ...</td>\n",
       "    </tr>\n",
       "    <tr>\n",
       "      <th>16</th>\n",
       "      <td>Onlinekhabar</td>\n",
       "      <td>Sports</td>\n",
       "      <td>प्रधानमन्त्री कपको तयारी पूरा, विजेतालाई १० लाख</td>\n",
       "      <td>१२ कात्तिक, काठमाडौं । प्रधानमन्त्री कप एकदिवस...</td>\n",
       "    </tr>\n",
       "    <tr>\n",
       "      <th>1</th>\n",
       "      <td>Onlinekhabar</td>\n",
       "      <td>Sports</td>\n",
       "      <td>पारस खड्कासहित ४० खेलाडी सम्मानित</td>\n",
       "      <td>१३ कात्तिक, काठमाडौं । नेपाल लोकतान्त्रिक खेलक...</td>\n",
       "    </tr>\n",
       "    <tr>\n",
       "      <th>13</th>\n",
       "      <td>Onlinekhabar</td>\n",
       "      <td>Sports</td>\n",
       "      <td>चेल्सी र लिभरपुल पराजित, टोटनहमको रोमाञ्चक जित</td>\n",
       "      <td>१३ कात्तिक काठमाडौं । प्रिमियर लिग फुटबलमा शनि...</td>\n",
       "    </tr>\n",
       "    <tr>\n",
       "      <th>39</th>\n",
       "      <td>Onlinekhabar</td>\n",
       "      <td>Sports</td>\n",
       "      <td>प्रधानमन्त्री कप क्रिकेट : ज्ञानेन्द्रको कप्ता...</td>\n",
       "      <td>९ कात्तिक, काठमाडौं । यही कात्तिक १३ देखि २६ ग...</td>\n",
       "    </tr>\n",
       "    <tr>\n",
       "      <th>34</th>\n",
       "      <td>Onlinekhabar</td>\n",
       "      <td>Sports</td>\n",
       "      <td>बंगलादेशमाथि दक्षिण अफ्रिकाको सानदार जित</td>\n",
       "      <td>१० कात्तिक, काठमाडौं । टी–२० विश्वकप क्रिकेटमा...</td>\n",
       "    </tr>\n",
       "    <tr>\n",
       "      <th>47</th>\n",
       "      <td>Onlinekhabar</td>\n",
       "      <td>Sports</td>\n",
       "      <td>टी-२० विश्वकपमा नेदरल्याण्ड्सविरुद्ध बंगलादेशक...</td>\n",
       "      <td>७ कात्तिक, काठमाडौं । आईसीसी टी–२० विश्वकप क्र...</td>\n",
       "    </tr>\n",
       "    <tr>\n",
       "      <th>38</th>\n",
       "      <td>Onlinekhabar</td>\n",
       "      <td>Sports</td>\n",
       "      <td>टी-२० विश्वकप : इंग्ल्याण्डमाथि आयरल्याण्डको जित</td>\n",
       "      <td>९ कात्तिक, काठमाडौं । अष्ट्रेलियामा भइरहेको आई...</td>\n",
       "    </tr>\n",
       "    <tr>\n",
       "      <th>14</th>\n",
       "      <td>Onlinekhabar</td>\n",
       "      <td>Sports</td>\n",
       "      <td>केभिन डे ब्रुएनाको गोलमा सिटी विजयी, शीर्ष स्थ...</td>\n",
       "      <td>१२ कात्तिक, काठमाडौं । प्रिमियर लिग फुटबलमा शन...</td>\n",
       "    </tr>\n",
       "  </tbody>\n",
       "</table>\n",
       "</div>"
      ],
      "text/plain": [
       "          source category                                            heading  \\\n",
       "21  Onlinekhabar   Sports                रुविनाको ह्याट्रिकमा क्यान-११ विजयी   \n",
       "45  Onlinekhabar   Sports                        अंकमा नवौं राष्ट्रिय खेलकुद   \n",
       "16  Onlinekhabar   Sports    प्रधानमन्त्री कपको तयारी पूरा, विजेतालाई १० लाख   \n",
       "1   Onlinekhabar   Sports                  पारस खड्कासहित ४० खेलाडी सम्मानित   \n",
       "13  Onlinekhabar   Sports     चेल्सी र लिभरपुल पराजित, टोटनहमको रोमाञ्चक जित   \n",
       "39  Onlinekhabar   Sports  प्रधानमन्त्री कप क्रिकेट : ज्ञानेन्द्रको कप्ता...   \n",
       "34  Onlinekhabar   Sports           बंगलादेशमाथि दक्षिण अफ्रिकाको सानदार जित   \n",
       "47  Onlinekhabar   Sports  टी-२० विश्वकपमा नेदरल्याण्ड्सविरुद्ध बंगलादेशक...   \n",
       "38  Onlinekhabar   Sports   टी-२० विश्वकप : इंग्ल्याण्डमाथि आयरल्याण्डको जित   \n",
       "14  Onlinekhabar   Sports  केभिन डे ब्रुएनाको गोलमा सिटी विजयी, शीर्ष स्थ...   \n",
       "\n",
       "                                              content  \n",
       "21  ११ कात्तिक, पोखरा । रुविना क्षेत्रीले ह्याट्रि...  \n",
       "45  ७ कात्तिक, काठमाडौं । घरेलु खेलकुदको सबैभन्दा ...  \n",
       "16  १२ कात्तिक, काठमाडौं । प्रधानमन्त्री कप एकदिवस...  \n",
       "1   १३ कात्तिक, काठमाडौं । नेपाल लोकतान्त्रिक खेलक...  \n",
       "13  १३ कात्तिक काठमाडौं । प्रिमियर लिग फुटबलमा शनि...  \n",
       "39  ९ कात्तिक, काठमाडौं । यही कात्तिक १३ देखि २६ ग...  \n",
       "34  १० कात्तिक, काठमाडौं । टी–२० विश्वकप क्रिकेटमा...  \n",
       "47  ७ कात्तिक, काठमाडौं । आईसीसी टी–२० विश्वकप क्र...  \n",
       "38  ९ कात्तिक, काठमाडौं । अष्ट्रेलियामा भइरहेको आई...  \n",
       "14  १२ कात्तिक, काठमाडौं । प्रिमियर लिग फुटबलमा शन...  "
      ]
     },
     "execution_count": 4,
     "metadata": {},
     "output_type": "execute_result"
    }
   ],
   "source": [
    "ns.df.sample(10)"
   ]
  },
  {
   "cell_type": "markdown",
   "metadata": {},
   "source": [
    "Now you can export the dataframe or do any calculations based on your requirments."
   ]
  },
  {
   "cell_type": "code",
   "execution_count": 11,
   "metadata": {},
   "outputs": [
    {
     "name": "stderr",
     "output_type": "stream",
     "text": [
      "100%|██████████| 4/4 [00:01<00:00,  3.38it/s]\n"
     ]
    },
    {
     "name": "stdout",
     "output_type": "stream",
     "text": [
      "Extracted 80 urls.\n",
      "Extracted 80 headings.\n",
      "Scraping contents from urls...\n"
     ]
    },
    {
     "name": "stderr",
     "output_type": "stream",
     "text": [
      "100%|██████████| 80/80 [01:38<00:00,  1.23s/it]"
     ]
    },
    {
     "name": "stdout",
     "output_type": "stream",
     "text": [
      "Extracted 80 contents.\n",
      "Dataframe created.\n"
     ]
    },
    {
     "name": "stderr",
     "output_type": "stream",
     "text": [
      "\n"
     ]
    }
   ],
   "source": [
    "# Example 2\n",
    "nepalkhabar_politics = NepaliNewsScraper(category='Politics')\n",
    "nepalkhabar_politics.fetch_articles_from_nepalkhabar(\n",
    "    nk_category_url='https://nepalkhabar.com/category/politics', \n",
    "    page_from=3,\n",
    "    page_to=6, \n",
    "    export_to_csv=False\n",
    ")"
   ]
  },
  {
   "cell_type": "code",
   "execution_count": 12,
   "metadata": {},
   "outputs": [
    {
     "data": {
      "text/html": [
       "<div>\n",
       "<style scoped>\n",
       "    .dataframe tbody tr th:only-of-type {\n",
       "        vertical-align: middle;\n",
       "    }\n",
       "\n",
       "    .dataframe tbody tr th {\n",
       "        vertical-align: top;\n",
       "    }\n",
       "\n",
       "    .dataframe thead th {\n",
       "        text-align: right;\n",
       "    }\n",
       "</style>\n",
       "<table border=\"1\" class=\"dataframe\">\n",
       "  <thead>\n",
       "    <tr style=\"text-align: right;\">\n",
       "      <th></th>\n",
       "      <th>source</th>\n",
       "      <th>category</th>\n",
       "      <th>heading</th>\n",
       "      <th>content</th>\n",
       "    </tr>\n",
       "  </thead>\n",
       "  <tbody>\n",
       "    <tr>\n",
       "      <th>4</th>\n",
       "      <td>Nepalkhabar</td>\n",
       "      <td>Politics</td>\n",
       "      <td>प्रकाण्डले बालुवाटार पुगेर भेटे प्रधानमन्त्रीलाई</td>\n",
       "      <td>शान्ति प्रक्रियामा आएको लामो समय बितिसक्दा पनि...</td>\n",
       "    </tr>\n",
       "    <tr>\n",
       "      <th>72</th>\n",
       "      <td>Nepalkhabar</td>\n",
       "      <td>Politics</td>\n",
       "      <td>कांग्रेसको घोषणापत्र कार्यान्वयन गर्न प्रदीप प...</td>\n",
       "      <td>नेपाली कांग्रेसका बौद्धिक नेता नरहरी आचार्यले ...</td>\n",
       "    </tr>\n",
       "    <tr>\n",
       "      <th>78</th>\n",
       "      <td>Nepalkhabar</td>\n",
       "      <td>Politics</td>\n",
       "      <td>सिन्धुपाल्चोक २ : मोहनबहादुरले रोक्लान् शेरबहा...</td>\n",
       "      <td>सिन्धुपाल्चोक क्षेत्र नम्बर २ को निर्वाचन रोचक...</td>\n",
       "    </tr>\n",
       "    <tr>\n",
       "      <th>28</th>\n",
       "      <td>Nepalkhabar</td>\n",
       "      <td>Politics</td>\n",
       "      <td>माओवादीको १५ बुँदे परराष्ट्र नीति : वैदेशिक सै...</td>\n",
       "      <td>नेकपा माओवादी केन्द्रले राष्ट्रिय सुरक्षा र रा...</td>\n",
       "    </tr>\n",
       "    <tr>\n",
       "      <th>40</th>\n",
       "      <td>Nepalkhabar</td>\n",
       "      <td>Politics</td>\n",
       "      <td>राप्रपाको चुनावी प्रतिबद्धता : किसानको खेत खेत...</td>\n",
       "      <td>राष्ट्रिय प्रजातन्त्र पार्टी (राप्रपा) ले चुना...</td>\n",
       "    </tr>\n",
       "  </tbody>\n",
       "</table>\n",
       "</div>"
      ],
      "text/plain": [
       "         source  category                                            heading  \\\n",
       "4   Nepalkhabar  Politics   प्रकाण्डले बालुवाटार पुगेर भेटे प्रधानमन्त्रीलाई   \n",
       "72  Nepalkhabar  Politics  कांग्रेसको घोषणापत्र कार्यान्वयन गर्न प्रदीप प...   \n",
       "78  Nepalkhabar  Politics  सिन्धुपाल्चोक २ : मोहनबहादुरले रोक्लान् शेरबहा...   \n",
       "28  Nepalkhabar  Politics  माओवादीको १५ बुँदे परराष्ट्र नीति : वैदेशिक सै...   \n",
       "40  Nepalkhabar  Politics  राप्रपाको चुनावी प्रतिबद्धता : किसानको खेत खेत...   \n",
       "\n",
       "                                              content  \n",
       "4   शान्ति प्रक्रियामा आएको लामो समय बितिसक्दा पनि...  \n",
       "72  नेपाली कांग्रेसका बौद्धिक नेता नरहरी आचार्यले ...  \n",
       "78  सिन्धुपाल्चोक क्षेत्र नम्बर २ को निर्वाचन रोचक...  \n",
       "28  नेकपा माओवादी केन्द्रले राष्ट्रिय सुरक्षा र रा...  \n",
       "40  राष्ट्रिय प्रजातन्त्र पार्टी (राप्रपा) ले चुना...  "
      ]
     },
     "execution_count": 12,
     "metadata": {},
     "output_type": "execute_result"
    }
   ],
   "source": [
    "nepalkhabar_politics.df.sample(5)"
   ]
  },
  {
   "cell_type": "code",
   "execution_count": null,
   "metadata": {},
   "outputs": [],
   "source": []
  }
 ],
 "metadata": {
  "kernelspec": {
   "display_name": "Python 3.10.8 64-bit (microsoft store)",
   "language": "python",
   "name": "python3"
  },
  "language_info": {
   "codemirror_mode": {
    "name": "ipython",
    "version": 3
   },
   "file_extension": ".py",
   "mimetype": "text/x-python",
   "name": "python",
   "nbconvert_exporter": "python",
   "pygments_lexer": "ipython3",
   "version": "3.10.8"
  },
  "orig_nbformat": 4,
  "vscode": {
   "interpreter": {
    "hash": "3b305b80917f196789ba60f88b8ccd2c93dcce63da16b55ee72ed7db7c17015d"
   }
  }
 },
 "nbformat": 4,
 "nbformat_minor": 2
}
